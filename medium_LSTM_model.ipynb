{
 "cells": [
  {
   "cell_type": "code",
   "execution_count": 1,
   "metadata": {},
   "outputs": [
    {
     "name": "stderr",
     "output_type": "stream",
     "text": [
      "c:\\Users\\HRUT\\AppData\\Local\\anaconda3\\envs\\forecasting\\lib\\site-packages\\torchaudio\\backend\\utils.py:74: UserWarning: No audio backend is available.\n",
      "  warnings.warn(\"No audio backend is available.\")\n"
     ]
    }
   ],
   "source": [
    "import seaborn as sns \n",
    "from pylab import rcParams\n",
    "import matplotlib.pyplot as plt\n",
    "from matplotlib import rc\n",
    "\n",
    "import pandas as pd\n",
    "import numpy as np\n",
    "from tqdm import tqdm\n",
    "import pytorch_lightning as pl\n",
    "from pytorch_lightning.callbacks import ModelCheckpoint, EarlyStopping\n",
    "from pytorch_lightning.loggers import TensorBoardLogger\n",
    "from sklearn.preprocessing import MinMaxScaler\n",
    "import torch\n",
    "import torch.autograd as autograd\n",
    "import torch.nn as nn\n",
    "import torch.nn.functional as F\n",
    "import torch.optim as optim \n",
    "from torch.utils.data import Dataset, DataLoader\n",
    "from collections import defaultdict"
   ]
  },
  {
   "cell_type": "code",
   "execution_count": 2,
   "metadata": {},
   "outputs": [],
   "source": [
    "tqdm.pandas()"
   ]
  },
  {
   "cell_type": "code",
   "execution_count": 3,
   "metadata": {},
   "outputs": [
    {
     "name": "stderr",
     "output_type": "stream",
     "text": [
      "Global seed set to 42\n"
     ]
    },
    {
     "data": {
      "text/plain": [
       "42"
      ]
     },
     "execution_count": 3,
     "metadata": {},
     "output_type": "execute_result"
    }
   ],
   "source": [
    "pl.seed_everything(42)"
   ]
  },
  {
   "cell_type": "code",
   "execution_count": 4,
   "metadata": {},
   "outputs": [
    {
     "name": "stderr",
     "output_type": "stream",
     "text": [
      "C:\\Users\\HRUT\\AppData\\Local\\anaconda3\\envs\\forecasting\\lib\\site-packages\\gdown\\cli.py:126: FutureWarning: Option `--id` was deprecated in version 4.3.1 and will be removed in 5.0. You don't need to pass it anymore to use a file ID.\n",
      "  warnings.warn(\n",
      "Downloading...\n",
      "From: https://drive.google.com/uc?id=174pzX55XaNzWgjZSgX6Us13fnBvPCca6\n",
      "To: c:\\Users\\HRUT\\OneDrive - Novozymes A S\\Desktop\\mtf\\Binance_BTCUSDT_minute.csv\n",
      "\n",
      "  0%|          | 0.00/37.2M [00:00<?, ?B/s]\n",
      "  1%|▏         | 524k/37.2M [00:00<00:08, 4.16MB/s]\n",
      "  3%|▎         | 1.05M/37.2M [00:00<00:07, 4.71MB/s]\n",
      "  4%|▍         | 1.57M/37.2M [00:00<00:07, 4.94MB/s]\n",
      "  6%|▌         | 2.10M/37.2M [00:00<00:07, 5.00MB/s]\n",
      "  8%|▊         | 3.15M/37.2M [00:00<00:06, 5.24MB/s]\n",
      " 11%|█▏        | 4.19M/37.2M [00:00<00:06, 5.29MB/s]\n",
      " 14%|█▍        | 5.24M/37.2M [00:01<00:06, 5.30MB/s]\n",
      " 17%|█▋        | 6.29M/37.2M [00:01<00:05, 5.34MB/s]\n",
      " 20%|█▉        | 7.34M/37.2M [00:01<00:05, 5.32MB/s]\n",
      " 23%|██▎       | 8.39M/37.2M [00:01<00:05, 5.36MB/s]\n",
      " 25%|██▌       | 9.44M/37.2M [00:01<00:05, 5.33MB/s]\n",
      " 28%|██▊       | 10.5M/37.2M [00:02<00:05, 5.02MB/s]\n",
      " 31%|███       | 11.5M/37.2M [00:02<00:04, 5.50MB/s]\n",
      " 34%|███▍      | 12.6M/37.2M [00:02<00:04, 5.50MB/s]\n",
      " 37%|███▋      | 13.6M/37.2M [00:02<00:04, 5.23MB/s]\n",
      " 40%|███▉      | 14.7M/37.2M [00:02<00:04, 5.34MB/s]\n",
      " 42%|████▏     | 15.7M/37.2M [00:02<00:04, 5.34MB/s]\n",
      " 45%|████▌     | 16.8M/37.2M [00:03<00:03, 5.39MB/s]\n",
      " 48%|████▊     | 17.8M/37.2M [00:03<00:03, 5.42MB/s]\n",
      " 51%|█████     | 18.9M/37.2M [00:03<00:03, 5.41MB/s]\n",
      " 54%|█████▎    | 19.9M/37.2M [00:03<00:03, 5.42MB/s]\n",
      " 56%|█████▋    | 21.0M/37.2M [00:04<00:03, 4.84MB/s]\n",
      " 59%|█████▉    | 22.0M/37.2M [00:04<00:02, 5.10MB/s]\n",
      " 62%|██████▏   | 23.1M/37.2M [00:04<00:02, 5.18MB/s]\n",
      " 65%|██████▍   | 24.1M/37.2M [00:04<00:02, 5.26MB/s]\n",
      " 68%|██████▊   | 25.2M/37.2M [00:04<00:02, 5.34MB/s]\n",
      " 71%|███████   | 26.2M/37.2M [00:04<00:02, 5.40MB/s]\n",
      " 73%|███████▎  | 27.3M/37.2M [00:05<00:02, 4.70MB/s]\n",
      " 75%|███████▍  | 27.8M/37.2M [00:05<00:01, 4.77MB/s]\n",
      " 76%|███████▌  | 28.3M/37.2M [00:05<00:01, 4.46MB/s]\n",
      " 79%|███████▉  | 29.4M/37.2M [00:05<00:01, 4.85MB/s]\n",
      " 80%|████████  | 29.9M/37.2M [00:05<00:01, 4.68MB/s]\n",
      " 82%|████████▏ | 30.4M/37.2M [00:05<00:01, 4.56MB/s]\n",
      " 83%|████████▎ | 30.9M/37.2M [00:06<00:01, 4.45MB/s]\n",
      " 85%|████████▍ | 31.5M/37.2M [00:06<00:01, 4.38MB/s]\n",
      " 86%|████████▌ | 32.0M/37.2M [00:06<00:01, 4.31MB/s]\n",
      " 87%|████████▋ | 32.5M/37.2M [00:06<00:01, 4.26MB/s]\n",
      " 89%|████████▉ | 33.0M/37.2M [00:06<00:00, 4.26MB/s]\n",
      " 90%|█████████ | 33.6M/37.2M [00:06<00:00, 4.21MB/s]\n",
      " 92%|█████████▏| 34.1M/37.2M [00:06<00:00, 4.20MB/s]\n",
      " 93%|█████████▎| 34.6M/37.2M [00:06<00:00, 4.27MB/s]\n",
      " 96%|█████████▌| 35.7M/37.2M [00:07<00:00, 4.76MB/s]\n",
      " 99%|█████████▉| 36.7M/37.2M [00:07<00:00, 5.04MB/s]\n",
      "100%|██████████| 37.2M/37.2M [00:07<00:00, 5.02MB/s]\n"
     ]
    }
   ],
   "source": [
    "!gdown --id 174pzX55XaNzWgjZSgX6Us13fnBvPCca6"
   ]
  },
  {
   "cell_type": "code",
   "execution_count": 5,
   "metadata": {},
   "outputs": [],
   "source": [
    "df = pd.read_csv(\"Binance_BTCUSDT_minute.csv\", parse_dates=['date'])\n",
    "# df = df.sort_values(by='date').reset_index(drop=True)"
   ]
  },
  {
   "cell_type": "code",
   "execution_count": 6,
   "metadata": {},
   "outputs": [],
   "source": [
    "df['prev_close'] = df.shift(1)['close']"
   ]
  },
  {
   "cell_type": "code",
   "execution_count": 7,
   "metadata": {},
   "outputs": [
    {
     "name": "stderr",
     "output_type": "stream",
     "text": [
      "100%|██████████| 273288/273288 [00:06<00:00, 41377.35it/s]\n"
     ]
    }
   ],
   "source": [
    "\n",
    "df['close_change'] = df.progress_apply(\n",
    "    lambda row: 0 if np.isnan(row.prev_close) else row.close - row.prev_close, axis=1\n",
    ")"
   ]
  },
  {
   "cell_type": "code",
   "execution_count": 8,
   "metadata": {},
   "outputs": [
    {
     "data": {
      "text/html": [
       "<div>\n",
       "<style scoped>\n",
       "    .dataframe tbody tr th:only-of-type {\n",
       "        vertical-align: middle;\n",
       "    }\n",
       "\n",
       "    .dataframe tbody tr th {\n",
       "        vertical-align: top;\n",
       "    }\n",
       "\n",
       "    .dataframe thead th {\n",
       "        text-align: right;\n",
       "    }\n",
       "</style>\n",
       "<table border=\"1\" class=\"dataframe\">\n",
       "  <thead>\n",
       "    <tr style=\"text-align: right;\">\n",
       "      <th></th>\n",
       "      <th>unix</th>\n",
       "      <th>date</th>\n",
       "      <th>symbol</th>\n",
       "      <th>open</th>\n",
       "      <th>high</th>\n",
       "      <th>low</th>\n",
       "      <th>close</th>\n",
       "      <th>Volume BTC</th>\n",
       "      <th>Volume USDT</th>\n",
       "      <th>tradecount</th>\n",
       "      <th>prev_close</th>\n",
       "      <th>close_change</th>\n",
       "    </tr>\n",
       "  </thead>\n",
       "  <tbody>\n",
       "    <tr>\n",
       "      <th>0</th>\n",
       "      <td>1616285160000</td>\n",
       "      <td>2021-03-21 00:06:00</td>\n",
       "      <td>BTC/USDT</td>\n",
       "      <td>58217.32</td>\n",
       "      <td>58339.37</td>\n",
       "      <td>58208.39</td>\n",
       "      <td>58331.16</td>\n",
       "      <td>46.047371</td>\n",
       "      <td>2.682795e+06</td>\n",
       "      <td>1271</td>\n",
       "      <td>NaN</td>\n",
       "      <td>0.00</td>\n",
       "    </tr>\n",
       "    <tr>\n",
       "      <th>1</th>\n",
       "      <td>1616285100000</td>\n",
       "      <td>2021-03-21 00:05:00</td>\n",
       "      <td>BTC/USDT</td>\n",
       "      <td>58051.79</td>\n",
       "      <td>58262.06</td>\n",
       "      <td>58040.25</td>\n",
       "      <td>58215.14</td>\n",
       "      <td>99.395476</td>\n",
       "      <td>5.780768e+06</td>\n",
       "      <td>2924</td>\n",
       "      <td>58331.16</td>\n",
       "      <td>-116.02</td>\n",
       "    </tr>\n",
       "    <tr>\n",
       "      <th>2</th>\n",
       "      <td>1616285040000</td>\n",
       "      <td>2021-03-21 00:04:00</td>\n",
       "      <td>BTC/USDT</td>\n",
       "      <td>57926.30</td>\n",
       "      <td>58059.44</td>\n",
       "      <td>57830.37</td>\n",
       "      <td>58049.58</td>\n",
       "      <td>92.501519</td>\n",
       "      <td>5.360804e+06</td>\n",
       "      <td>2784</td>\n",
       "      <td>58215.14</td>\n",
       "      <td>-165.56</td>\n",
       "    </tr>\n",
       "    <tr>\n",
       "      <th>3</th>\n",
       "      <td>1616284980000</td>\n",
       "      <td>2021-03-21 00:03:00</td>\n",
       "      <td>BTC/USDT</td>\n",
       "      <td>57816.93</td>\n",
       "      <td>57960.00</td>\n",
       "      <td>57811.41</td>\n",
       "      <td>57930.28</td>\n",
       "      <td>92.864307</td>\n",
       "      <td>5.376217e+06</td>\n",
       "      <td>2699</td>\n",
       "      <td>58049.58</td>\n",
       "      <td>-119.30</td>\n",
       "    </tr>\n",
       "    <tr>\n",
       "      <th>4</th>\n",
       "      <td>1616284920000</td>\n",
       "      <td>2021-03-21 00:02:00</td>\n",
       "      <td>BTC/USDT</td>\n",
       "      <td>57908.93</td>\n",
       "      <td>57967.00</td>\n",
       "      <td>57811.41</td>\n",
       "      <td>57816.93</td>\n",
       "      <td>202.327540</td>\n",
       "      <td>1.171108e+07</td>\n",
       "      <td>5072</td>\n",
       "      <td>57930.28</td>\n",
       "      <td>-113.35</td>\n",
       "    </tr>\n",
       "  </tbody>\n",
       "</table>\n",
       "</div>"
      ],
      "text/plain": [
       "            unix                date    symbol      open      high       low  \\\n",
       "0  1616285160000 2021-03-21 00:06:00  BTC/USDT  58217.32  58339.37  58208.39   \n",
       "1  1616285100000 2021-03-21 00:05:00  BTC/USDT  58051.79  58262.06  58040.25   \n",
       "2  1616285040000 2021-03-21 00:04:00  BTC/USDT  57926.30  58059.44  57830.37   \n",
       "3  1616284980000 2021-03-21 00:03:00  BTC/USDT  57816.93  57960.00  57811.41   \n",
       "4  1616284920000 2021-03-21 00:02:00  BTC/USDT  57908.93  57967.00  57811.41   \n",
       "\n",
       "      close  Volume BTC   Volume USDT  tradecount  prev_close  close_change  \n",
       "0  58331.16   46.047371  2.682795e+06        1271         NaN          0.00  \n",
       "1  58215.14   99.395476  5.780768e+06        2924    58331.16       -116.02  \n",
       "2  58049.58   92.501519  5.360804e+06        2784    58215.14       -165.56  \n",
       "3  57930.28   92.864307  5.376217e+06        2699    58049.58       -119.30  \n",
       "4  57816.93  202.327540  1.171108e+07        5072    57930.28       -113.35  "
      ]
     },
     "execution_count": 8,
     "metadata": {},
     "output_type": "execute_result"
    }
   ],
   "source": [
    "df.head()"
   ]
  },
  {
   "cell_type": "code",
   "execution_count": 9,
   "metadata": {},
   "outputs": [
    {
     "name": "stderr",
     "output_type": "stream",
     "text": [
      "100%|██████████| 273288/273288 [00:25<00:00, 10538.07it/s]\n"
     ]
    }
   ],
   "source": [
    "rows = []\n",
    "\n",
    "for _, row in tqdm(df.iterrows(), total=df.shape[0]):\n",
    "    row_data = dict(\n",
    "        day_of_week = row.date.dayofweek,\n",
    "        day_of_month = row.date.day, \n",
    "        week_of_year = row.date.week,\n",
    "        month = row.date.month,\n",
    "        open = row.open,\n",
    "        high = row.high,\n",
    "        low = row.low,\n",
    "        close_change = row.close_change,\n",
    "        close = row.close\n",
    "    )\n",
    "\n",
    "    rows.append(row_data)\n",
    "\n",
    "features_df = pd.DataFrame(rows)"
   ]
  },
  {
   "cell_type": "code",
   "execution_count": 10,
   "metadata": {},
   "outputs": [
    {
     "data": {
      "text/html": [
       "<div>\n",
       "<style scoped>\n",
       "    .dataframe tbody tr th:only-of-type {\n",
       "        vertical-align: middle;\n",
       "    }\n",
       "\n",
       "    .dataframe tbody tr th {\n",
       "        vertical-align: top;\n",
       "    }\n",
       "\n",
       "    .dataframe thead th {\n",
       "        text-align: right;\n",
       "    }\n",
       "</style>\n",
       "<table border=\"1\" class=\"dataframe\">\n",
       "  <thead>\n",
       "    <tr style=\"text-align: right;\">\n",
       "      <th></th>\n",
       "      <th>day_of_week</th>\n",
       "      <th>day_of_month</th>\n",
       "      <th>week_of_year</th>\n",
       "      <th>month</th>\n",
       "      <th>open</th>\n",
       "      <th>high</th>\n",
       "      <th>low</th>\n",
       "      <th>close_change</th>\n",
       "      <th>close</th>\n",
       "    </tr>\n",
       "  </thead>\n",
       "  <tbody>\n",
       "    <tr>\n",
       "      <th>0</th>\n",
       "      <td>6</td>\n",
       "      <td>21</td>\n",
       "      <td>11</td>\n",
       "      <td>3</td>\n",
       "      <td>58217.32</td>\n",
       "      <td>58339.37</td>\n",
       "      <td>58208.39</td>\n",
       "      <td>0.00</td>\n",
       "      <td>58331.16</td>\n",
       "    </tr>\n",
       "    <tr>\n",
       "      <th>1</th>\n",
       "      <td>6</td>\n",
       "      <td>21</td>\n",
       "      <td>11</td>\n",
       "      <td>3</td>\n",
       "      <td>58051.79</td>\n",
       "      <td>58262.06</td>\n",
       "      <td>58040.25</td>\n",
       "      <td>-116.02</td>\n",
       "      <td>58215.14</td>\n",
       "    </tr>\n",
       "    <tr>\n",
       "      <th>2</th>\n",
       "      <td>6</td>\n",
       "      <td>21</td>\n",
       "      <td>11</td>\n",
       "      <td>3</td>\n",
       "      <td>57926.30</td>\n",
       "      <td>58059.44</td>\n",
       "      <td>57830.37</td>\n",
       "      <td>-165.56</td>\n",
       "      <td>58049.58</td>\n",
       "    </tr>\n",
       "    <tr>\n",
       "      <th>3</th>\n",
       "      <td>6</td>\n",
       "      <td>21</td>\n",
       "      <td>11</td>\n",
       "      <td>3</td>\n",
       "      <td>57816.93</td>\n",
       "      <td>57960.00</td>\n",
       "      <td>57811.41</td>\n",
       "      <td>-119.30</td>\n",
       "      <td>57930.28</td>\n",
       "    </tr>\n",
       "    <tr>\n",
       "      <th>4</th>\n",
       "      <td>6</td>\n",
       "      <td>21</td>\n",
       "      <td>11</td>\n",
       "      <td>3</td>\n",
       "      <td>57908.93</td>\n",
       "      <td>57967.00</td>\n",
       "      <td>57811.41</td>\n",
       "      <td>-113.35</td>\n",
       "      <td>57816.93</td>\n",
       "    </tr>\n",
       "  </tbody>\n",
       "</table>\n",
       "</div>"
      ],
      "text/plain": [
       "   day_of_week  day_of_month  week_of_year  month      open      high  \\\n",
       "0            6            21            11      3  58217.32  58339.37   \n",
       "1            6            21            11      3  58051.79  58262.06   \n",
       "2            6            21            11      3  57926.30  58059.44   \n",
       "3            6            21            11      3  57816.93  57960.00   \n",
       "4            6            21            11      3  57908.93  57967.00   \n",
       "\n",
       "        low  close_change     close  \n",
       "0  58208.39          0.00  58331.16  \n",
       "1  58040.25       -116.02  58215.14  \n",
       "2  57830.37       -165.56  58049.58  \n",
       "3  57811.41       -119.30  57930.28  \n",
       "4  57811.41       -113.35  57816.93  "
      ]
     },
     "execution_count": 10,
     "metadata": {},
     "output_type": "execute_result"
    }
   ],
   "source": [
    "features_df.head()"
   ]
  },
  {
   "cell_type": "code",
   "execution_count": 11,
   "metadata": {},
   "outputs": [
    {
     "data": {
      "text/plain": [
       "245959"
      ]
     },
     "execution_count": 11,
     "metadata": {},
     "output_type": "execute_result"
    }
   ],
   "source": [
    "training_size = int(len(features_df) * 0.9)\n",
    "training_size"
   ]
  },
  {
   "cell_type": "code",
   "execution_count": 12,
   "metadata": {},
   "outputs": [
    {
     "data": {
      "text/plain": [
       "((245959, 9), (27328, 9))"
      ]
     },
     "execution_count": 12,
     "metadata": {},
     "output_type": "execute_result"
    }
   ],
   "source": [
    "train_df , test_df = features_df[:training_size], features_df[training_size+1:]\n",
    "train_df.shape, test_df.shape"
   ]
  },
  {
   "cell_type": "code",
   "execution_count": 13,
   "metadata": {},
   "outputs": [],
   "source": [
    "scaler = MinMaxScaler(feature_range=(-1,1))\n",
    "scaler = scaler.fit(train_df)"
   ]
  },
  {
   "cell_type": "code",
   "execution_count": 14,
   "metadata": {},
   "outputs": [
    {
     "data": {
      "text/plain": [
       "(245959, 9)"
      ]
     },
     "execution_count": 14,
     "metadata": {},
     "output_type": "execute_result"
    }
   ],
   "source": [
    "train_df = pd.DataFrame(\n",
    "    scaler.transform(train_df),\n",
    "    index = train_df.index,\n",
    "    columns=train_df.columns\n",
    ")\n",
    "train_df.shape"
   ]
  },
  {
   "cell_type": "code",
   "execution_count": 15,
   "metadata": {},
   "outputs": [
    {
     "data": {
      "text/html": [
       "<div>\n",
       "<style scoped>\n",
       "    .dataframe tbody tr th:only-of-type {\n",
       "        vertical-align: middle;\n",
       "    }\n",
       "\n",
       "    .dataframe tbody tr th {\n",
       "        vertical-align: top;\n",
       "    }\n",
       "\n",
       "    .dataframe thead th {\n",
       "        text-align: right;\n",
       "    }\n",
       "</style>\n",
       "<table border=\"1\" class=\"dataframe\">\n",
       "  <thead>\n",
       "    <tr style=\"text-align: right;\">\n",
       "      <th></th>\n",
       "      <th>day_of_week</th>\n",
       "      <th>day_of_month</th>\n",
       "      <th>week_of_year</th>\n",
       "      <th>month</th>\n",
       "      <th>open</th>\n",
       "      <th>high</th>\n",
       "      <th>low</th>\n",
       "      <th>close_change</th>\n",
       "      <th>close</th>\n",
       "    </tr>\n",
       "  </thead>\n",
       "  <tbody>\n",
       "    <tr>\n",
       "      <th>245960</th>\n",
       "      <td>-0.333333</td>\n",
       "      <td>0.933333</td>\n",
       "      <td>0.5</td>\n",
       "      <td>0.454545</td>\n",
       "      <td>-0.986917</td>\n",
       "      <td>-0.987523</td>\n",
       "      <td>-0.986377</td>\n",
       "      <td>-0.243840</td>\n",
       "      <td>-0.987044</td>\n",
       "    </tr>\n",
       "    <tr>\n",
       "      <th>245961</th>\n",
       "      <td>-0.333333</td>\n",
       "      <td>0.933333</td>\n",
       "      <td>0.5</td>\n",
       "      <td>0.454545</td>\n",
       "      <td>-0.986869</td>\n",
       "      <td>-0.987488</td>\n",
       "      <td>-0.986349</td>\n",
       "      <td>-0.241675</td>\n",
       "      <td>-0.986963</td>\n",
       "    </tr>\n",
       "    <tr>\n",
       "      <th>245962</th>\n",
       "      <td>-0.333333</td>\n",
       "      <td>0.933333</td>\n",
       "      <td>0.5</td>\n",
       "      <td>0.454545</td>\n",
       "      <td>-0.986959</td>\n",
       "      <td>-0.987503</td>\n",
       "      <td>-0.986377</td>\n",
       "      <td>-0.242183</td>\n",
       "      <td>-0.986915</td>\n",
       "    </tr>\n",
       "    <tr>\n",
       "      <th>245963</th>\n",
       "      <td>-0.333333</td>\n",
       "      <td>0.933333</td>\n",
       "      <td>0.5</td>\n",
       "      <td>0.454545</td>\n",
       "      <td>-0.986839</td>\n",
       "      <td>-0.987473</td>\n",
       "      <td>-0.986348</td>\n",
       "      <td>-0.244243</td>\n",
       "      <td>-0.987005</td>\n",
       "    </tr>\n",
       "    <tr>\n",
       "      <th>245964</th>\n",
       "      <td>-0.333333</td>\n",
       "      <td>0.933333</td>\n",
       "      <td>0.5</td>\n",
       "      <td>0.454545</td>\n",
       "      <td>-0.987095</td>\n",
       "      <td>-0.987458</td>\n",
       "      <td>-0.986459</td>\n",
       "      <td>-0.241086</td>\n",
       "      <td>-0.986885</td>\n",
       "    </tr>\n",
       "  </tbody>\n",
       "</table>\n",
       "</div>"
      ],
      "text/plain": [
       "        day_of_week  day_of_month  week_of_year     month      open      high  \\\n",
       "245960    -0.333333      0.933333           0.5  0.454545 -0.986917 -0.987523   \n",
       "245961    -0.333333      0.933333           0.5  0.454545 -0.986869 -0.987488   \n",
       "245962    -0.333333      0.933333           0.5  0.454545 -0.986959 -0.987503   \n",
       "245963    -0.333333      0.933333           0.5  0.454545 -0.986839 -0.987473   \n",
       "245964    -0.333333      0.933333           0.5  0.454545 -0.987095 -0.987458   \n",
       "\n",
       "             low  close_change     close  \n",
       "245960 -0.986377     -0.243840 -0.987044  \n",
       "245961 -0.986349     -0.241675 -0.986963  \n",
       "245962 -0.986377     -0.242183 -0.986915  \n",
       "245963 -0.986348     -0.244243 -0.987005  \n",
       "245964 -0.986459     -0.241086 -0.986885  "
      ]
     },
     "execution_count": 15,
     "metadata": {},
     "output_type": "execute_result"
    }
   ],
   "source": [
    "test_df = pd.DataFrame(\n",
    "    scaler.transform(test_df),\n",
    "    index = test_df.index,\n",
    "    columns=test_df.columns\n",
    ")\n",
    "\n",
    "test_df.head()"
   ]
  },
  {
   "cell_type": "code",
   "execution_count": 16,
   "metadata": {},
   "outputs": [],
   "source": [
    "def create_sequences(input_data:pd.DataFrame, target_column, sequence_length):\n",
    "    sequences = []\n",
    "    data_size = len(input_data)\n",
    "    for i in tqdm(range(data_size - sequence_length)):\n",
    "        sequence = input_data[i:i+sequence_length]\n",
    "        label_position = i + sequence_length\n",
    "        label = input_data.iloc[label_position][target_column]\n",
    "        sequences.append((sequence,label))\n",
    "\n",
    "    return sequences"
   ]
  },
  {
   "cell_type": "code",
   "execution_count": 17,
   "metadata": {},
   "outputs": [
    {
     "name": "stderr",
     "output_type": "stream",
     "text": [
      "100%|██████████| 245809/245809 [00:18<00:00, 13445.00it/s]\n",
      "100%|██████████| 27178/27178 [00:01<00:00, 16019.67it/s]\n"
     ]
    }
   ],
   "source": [
    "SEQUENCE_LENGTH = 150\n",
    "\n",
    "train_sequences = create_sequences(train_df, 'close', SEQUENCE_LENGTH)\n",
    "test_sequences = create_sequences(test_df, 'close', SEQUENCE_LENGTH)\n"
   ]
  },
  {
   "cell_type": "code",
   "execution_count": 18,
   "metadata": {},
   "outputs": [],
   "source": [
    "class BTCDataset(Dataset):\n",
    "    def __init__(self,sequences):\n",
    "        self.sequences = sequences\n",
    "    \n",
    "    def __len__(self):\n",
    "        return len(self.sequences)\n",
    "    \n",
    "    def __getitem__(self, idx):\n",
    "        sequence, label = self.sequences[idx]\n",
    "\n",
    "        return dict(\n",
    "            sequence=torch.Tensor(sequence.to_numpy()),\n",
    "            label = torch.tensor(label).float()\n",
    "        )\n"
   ]
  },
  {
   "cell_type": "code",
   "execution_count": null,
   "metadata": {},
   "outputs": [],
   "source": [
    "class BTCPriceDataModule(pl.LightningDataModule):\n",
    "\n",
    "    def __init__(self, train_sequences, test_sequences, batch_size = 8):\n",
    "        super().__init__()\n",
    "        self.train_sequence = train_sequences\n",
    "        self.test_sequences = test_sequences\n",
    "        self.batch_size = batch_size\n",
    "\n",
    "    def setup(self, stage=None):\n",
    "        self.train_dataset = BTCDataset(self.train_sequence)\n",
    "        self.test_dataset = BTCDataset(self.test_sequences)\n",
    "\n",
    "    def train_dataloader(self):\n",
    "        print(\"coming here\")\n",
    "        return DataLoader(\n",
    "            self.train_dataset,\n",
    "            batch_size = self.batch_size,\n",
    "            shuffle = False,\n",
    "            num_workers=2\n",
    "        )\n",
    "    \n",
    "    def val_dataloader(self):\n",
    "        return DataLoader(\n",
    "            self.test_dataset,\n",
    "            batch_size=1,\n",
    "            shuffle=False,\n",
    "            num_workers=1\n",
    "        )\n",
    "\n",
    "    def test_dataloader(self):\n",
    "        return DataLoader(\n",
    "            self.test_dataset,\n",
    "            batch_size=1,\n",
    "            shuffle=False,\n",
    "            num_workers=1\n",
    "        )   "
   ]
  },
  {
   "cell_type": "code",
   "execution_count": null,
   "metadata": {},
   "outputs": [
    {
     "name": "stdout",
     "output_type": "stream",
     "text": [
      "coming here\n"
     ]
    },
    {
     "data": {
      "text/plain": [
       "1921"
      ]
     },
     "execution_count": 20,
     "metadata": {},
     "output_type": "execute_result"
    }
   ],
   "source": [
    "N_EPOCHS = 8\n",
    "BATCH_SIZE = 128\n",
    "\n",
    "data_module = BTCPriceDataModule(train_sequences, test_sequences, batch_size=BATCH_SIZE)\n",
    "data_module.setup()\n",
    "\n",
    "len(data_module.train_dataloader())\n",
    "\n",
    "# for i in data_module.train_dataloader():\n",
    "#     print(i['sequence'].shape)\n",
    "#     print(i['label'].shape)\n",
    "#     break"
   ]
  },
  {
   "cell_type": "code",
   "execution_count": null,
   "metadata": {},
   "outputs": [],
   "source": [
    "class PricePredictionModel(nn.Module):\n",
    "\n",
    "    def __init__(self, n_features, n_hidden=128, n_layers=2):\n",
    "        super().__init__()\n",
    "\n",
    "        self.n_hidden = n_hidden\n",
    "        self.lstm = nn.LSTM(\n",
    "            input_size = n_features,\n",
    "            hidden_size = n_hidden,\n",
    "            batch_first = True, \n",
    "            num_layers = n_layers,\n",
    "            dropout = 0.2\n",
    "        )\n",
    "\n",
    "        self.regressor = nn.Linear(n_hidden, 1)\n",
    "\n",
    "\n",
    "    def forward(self, x):\n",
    "        self.lstm.flatten_parameters()\n",
    "\n",
    "        _, (hidden, _) = self.lstm(x)\n",
    "        out = hidden[-1]\n",
    "\n",
    "        return self.regressor(out)"
   ]
  },
  {
   "cell_type": "code",
   "execution_count": null,
   "metadata": {},
   "outputs": [],
   "source": [
    "class BTCPricePredictor(pl.LightningModule):\n",
    "\n",
    "    def __init__(self, n_features: int):\n",
    "        super().__init__()\n",
    "\n",
    "        self.model = PricePredictionModel(n_features)\n",
    "        self.criterion = nn.MSELoss()\n",
    "\n",
    "    def forward(self, x, labels=None):\n",
    "        output = self.model(x)\n",
    "        loss = 0\n",
    "\n",
    "        if labels is not None:\n",
    "            loss = self.criterion(output, labels.unsqueeze(dim=1))\n",
    "\n",
    "        return loss, output\n",
    "\n",
    "    def training_step(self, batch, batch_idx):\n",
    "        sequences = batch[\"sequence\"]\n",
    "        labels = batch[\"label\"]\n",
    "\n",
    "        loss, outputs = self(sequences, labels)\n",
    "        self.log(\"train_loss\", loss, prog_bar = True, logger = True)\n",
    "        return loss\n",
    "    \n",
    "    def validation_step(self, batch, batch_idx):\n",
    "        sequences = batch[\"sequence\"]\n",
    "        labels = batch[\"label\"]\n",
    "\n",
    "        loss, outputs = self(sequences, labels)\n",
    "        self.log(\"validation_loss\", loss, prog_bar = True, logger = True)\n",
    "        return loss\n",
    "    \n",
    "    def test_step(self, batch, batch_idx):\n",
    "        sequences = batch[\"sequence\"]\n",
    "        labels = batch[\"label\"]\n",
    "\n",
    "        loss, outputs = self(sequences, labels)\n",
    "        self.log(\"test_loss\", loss, prog_bar = True, logger = True)\n",
    "        return loss\n",
    "    \n",
    "    def configure_optimizers(self):\n",
    "        return optim.AdamW(self.parameters(), lr=0.0001)"
   ]
  },
  {
   "cell_type": "code",
   "execution_count": null,
   "metadata": {},
   "outputs": [],
   "source": [
    "model = BTCPricePredictor(n_features=train_df.shape[1])"
   ]
  },
  {
   "cell_type": "code",
   "execution_count": null,
   "metadata": {},
   "outputs": [
    {
     "name": "stderr",
     "output_type": "stream",
     "text": [
      "GPU available: False, used: False\n",
      "TPU available: False, using: 0 TPU cores\n",
      "IPU available: False, using: 0 IPUs\n",
      "HPU available: False, using: 0 HPUs\n"
     ]
    }
   ],
   "source": [
    "checkpoint_callback = ModelCheckpoint(\n",
    "    dirpath = 'checkpoints',\n",
    "    filename='best-checkpoint',\n",
    "    save_top_k= 1,\n",
    "    verbose=True,\n",
    "    monitor='val_loss',\n",
    "    mode = 'min'\n",
    ")\n",
    "\n",
    "logger = TensorBoardLogger('lightning_logs', name='btc-price')\n",
    "\n",
    "early_stopping_callback = EarlyStopping(monitor='val_loss', patience=2)\n",
    "\n",
    "\n",
    "trainer = pl.Trainer(\n",
    "    logger = logger,\n",
    "    callbacks=[early_stopping_callback, checkpoint_callback],\n",
    "    max_epochs= N_EPOCHS,\n",
    "    enable_progress_bar=True,\n",
    "    num_sanity_val_steps=1\n",
    ")"
   ]
  },
  {
   "cell_type": "code",
   "execution_count": null,
   "metadata": {},
   "outputs": [],
   "source": [
    "# trainer.fit(model, data_module)"
   ]
  }
 ],
 "metadata": {
  "kernelspec": {
   "display_name": "test",
   "language": "python",
   "name": "python3"
  },
  "language_info": {
   "codemirror_mode": {
    "name": "ipython",
    "version": 3
   },
   "file_extension": ".py",
   "mimetype": "text/x-python",
   "name": "python",
   "nbconvert_exporter": "python",
   "pygments_lexer": "ipython3",
   "version": "3.8.17"
  },
  "orig_nbformat": 4
 },
 "nbformat": 4,
 "nbformat_minor": 2
}
