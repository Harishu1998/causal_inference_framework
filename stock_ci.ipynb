{
 "cells": [
  {
   "cell_type": "code",
   "execution_count": 1,
   "metadata": {},
   "outputs": [
    {
     "name": "stderr",
     "output_type": "stream",
     "text": [
      "c:\\Users\\Reuel Group\\anaconda3\\envs\\causal\\lib\\site-packages\\tqdm\\auto.py:21: TqdmWarning: IProgress not found. Please update jupyter and ipywidgets. See https://ipywidgets.readthedocs.io/en/stable/user_install.html\n",
      "  from .autonotebook import tqdm as notebook_tqdm\n"
     ]
    },
    {
     "name": "stdout",
     "output_type": "stream",
     "text": [
      "WARNING:tensorflow:From c:\\Users\\Reuel Group\\anaconda3\\envs\\causal\\lib\\site-packages\\keras\\src\\losses.py:2976: The name tf.losses.sparse_softmax_cross_entropy is deprecated. Please use tf.compat.v1.losses.sparse_softmax_cross_entropy instead.\n",
      "\n"
     ]
    }
   ],
   "source": [
    "import pandas as pd\n",
    "import numpy as np\n",
    "\n",
    "from datetime import datetime as dt\n",
    "\n",
    "import yfinance as yf\n",
    "from yahooquery import Ticker\n",
    "\n",
    "from merlion.models.forecast.arima import Arima, ArimaConfig\n",
    "from merlion.models.forecast.prophet import Prophet, ProphetConfig\n",
    "from merlion.models.forecast.smoother import MSES, MSESConfig\n",
    "from merlion.utils.time_series import TimeSeries\n",
    "from merlion.transform.base import Identity\n",
    "from merlion.transform.resample import TemporalResample\n",
    "\n",
    "from causalimpact import CausalImpact\n",
    "import tensorflow as tf\n",
    "import os\n",
    "\n",
    "from sklearn.metrics import mean_squared_error, r2_score\n",
    "\n",
    "import plotly.express as px\n",
    "import seaborn as sns\n",
    "\n",
    "pd.set_option('display.max_rows', None)\n",
    "pd.set_option('display.max_columns', None)"
   ]
  },
  {
   "cell_type": "code",
   "execution_count": 2,
   "metadata": {},
   "outputs": [
    {
     "data": {
      "text/html": [
       "<div>\n",
       "<style scoped>\n",
       "    .dataframe tbody tr th:only-of-type {\n",
       "        vertical-align: middle;\n",
       "    }\n",
       "\n",
       "    .dataframe tbody tr th {\n",
       "        vertical-align: top;\n",
       "    }\n",
       "\n",
       "    .dataframe thead th {\n",
       "        text-align: right;\n",
       "    }\n",
       "</style>\n",
       "<table border=\"1\" class=\"dataframe\">\n",
       "  <thead>\n",
       "    <tr style=\"text-align: right;\">\n",
       "      <th></th>\n",
       "      <th>Open</th>\n",
       "      <th>High</th>\n",
       "      <th>Low</th>\n",
       "      <th>Close</th>\n",
       "      <th>Volume</th>\n",
       "      <th>Dividends</th>\n",
       "      <th>Stock Splits</th>\n",
       "    </tr>\n",
       "    <tr>\n",
       "      <th>Datetime</th>\n",
       "      <th></th>\n",
       "      <th></th>\n",
       "      <th></th>\n",
       "      <th></th>\n",
       "      <th></th>\n",
       "      <th></th>\n",
       "      <th></th>\n",
       "    </tr>\n",
       "  </thead>\n",
       "  <tbody>\n",
       "    <tr>\n",
       "      <th>2022-12-06 09:30:00-05:00</th>\n",
       "      <td>132.710007</td>\n",
       "      <td>133.770004</td>\n",
       "      <td>130.910004</td>\n",
       "      <td>132.509995</td>\n",
       "      <td>5316748</td>\n",
       "      <td>0.0</td>\n",
       "      <td>0.0</td>\n",
       "    </tr>\n",
       "    <tr>\n",
       "      <th>2022-12-06 10:30:00-05:00</th>\n",
       "      <td>132.509995</td>\n",
       "      <td>133.729904</td>\n",
       "      <td>132.149994</td>\n",
       "      <td>133.199997</td>\n",
       "      <td>2172621</td>\n",
       "      <td>0.0</td>\n",
       "      <td>0.0</td>\n",
       "    </tr>\n",
       "    <tr>\n",
       "      <th>2022-12-06 11:30:00-05:00</th>\n",
       "      <td>133.190002</td>\n",
       "      <td>134.550003</td>\n",
       "      <td>132.649994</td>\n",
       "      <td>132.919998</td>\n",
       "      <td>1705820</td>\n",
       "      <td>0.0</td>\n",
       "      <td>0.0</td>\n",
       "    </tr>\n",
       "    <tr>\n",
       "      <th>2022-12-06 12:30:00-05:00</th>\n",
       "      <td>132.910004</td>\n",
       "      <td>133.091995</td>\n",
       "      <td>132.235001</td>\n",
       "      <td>132.279999</td>\n",
       "      <td>1303352</td>\n",
       "      <td>0.0</td>\n",
       "      <td>0.0</td>\n",
       "    </tr>\n",
       "    <tr>\n",
       "      <th>2022-12-06 13:30:00-05:00</th>\n",
       "      <td>132.279999</td>\n",
       "      <td>133.300003</td>\n",
       "      <td>131.979996</td>\n",
       "      <td>132.725006</td>\n",
       "      <td>1709159</td>\n",
       "      <td>0.0</td>\n",
       "      <td>0.0</td>\n",
       "    </tr>\n",
       "  </tbody>\n",
       "</table>\n",
       "</div>"
      ],
      "text/plain": [
       "                                 Open        High         Low       Close  \\\n",
       "Datetime                                                                    \n",
       "2022-12-06 09:30:00-05:00  132.710007  133.770004  130.910004  132.509995   \n",
       "2022-12-06 10:30:00-05:00  132.509995  133.729904  132.149994  133.199997   \n",
       "2022-12-06 11:30:00-05:00  133.190002  134.550003  132.649994  132.919998   \n",
       "2022-12-06 12:30:00-05:00  132.910004  133.091995  132.235001  132.279999   \n",
       "2022-12-06 13:30:00-05:00  132.279999  133.300003  131.979996  132.725006   \n",
       "\n",
       "                            Volume  Dividends  Stock Splits  \n",
       "Datetime                                                     \n",
       "2022-12-06 09:30:00-05:00  5316748        0.0           0.0  \n",
       "2022-12-06 10:30:00-05:00  2172621        0.0           0.0  \n",
       "2022-12-06 11:30:00-05:00  1705820        0.0           0.0  \n",
       "2022-12-06 12:30:00-05:00  1303352        0.0           0.0  \n",
       "2022-12-06 13:30:00-05:00  1709159        0.0           0.0  "
      ]
     },
     "execution_count": 2,
     "metadata": {},
     "output_type": "execute_result"
    }
   ],
   "source": [
    "## can use yfinance or yahooquery to pull stock price data into pandas\n",
    "df_crm = yf.Ticker(\"CRM\").history(start='2022-12-06', end='2023-01-05', interval=\"1h\")\n",
    "df_crm.head()"
   ]
  },
  {
   "cell_type": "code",
   "execution_count": 3,
   "metadata": {},
   "outputs": [],
   "source": [
    "## Companies that share similar characteristics that could be useful for the analysis\n",
    "basket = ['CRM','MSFT','ADBE','ORCL','NOW','WDAY','HUBS','MNDY','TEAM','SNOW']"
   ]
  },
  {
   "cell_type": "code",
   "execution_count": 4,
   "metadata": {},
   "outputs": [
    {
     "name": "stderr",
     "output_type": "stream",
     "text": [
      "C:\\Users\\Reuel Group\\AppData\\Local\\Temp\\ipykernel_23588\\962575659.py:11: FutureWarning: The behavior of DataFrame concatenation with empty or all-NA entries is deprecated. In a future version, this will no longer exclude empty or all-NA columns when determining the result dtypes. To retain the old behavior, exclude the relevant entries before the concat operation.\n",
      "  df_stocks = pd.concat([df_stocks,temp_df])\n"
     ]
    },
    {
     "data": {
      "text/html": [
       "<div>\n",
       "<style scoped>\n",
       "    .dataframe tbody tr th:only-of-type {\n",
       "        vertical-align: middle;\n",
       "    }\n",
       "\n",
       "    .dataframe tbody tr th {\n",
       "        vertical-align: top;\n",
       "    }\n",
       "\n",
       "    .dataframe thead th {\n",
       "        text-align: right;\n",
       "    }\n",
       "</style>\n",
       "<table border=\"1\" class=\"dataframe\">\n",
       "  <thead>\n",
       "    <tr style=\"text-align: right;\">\n",
       "      <th></th>\n",
       "      <th>Name</th>\n",
       "      <th>Ticker</th>\n",
       "      <th>Price</th>\n",
       "      <th>Datetime</th>\n",
       "    </tr>\n",
       "  </thead>\n",
       "  <tbody>\n",
       "    <tr>\n",
       "      <th>0</th>\n",
       "      <td>Salesforce, Inc.</td>\n",
       "      <td>CRM</td>\n",
       "      <td>132.710007</td>\n",
       "      <td>2022-12-06 09:30:00-05:00</td>\n",
       "    </tr>\n",
       "    <tr>\n",
       "      <th>1</th>\n",
       "      <td>Salesforce, Inc.</td>\n",
       "      <td>CRM</td>\n",
       "      <td>132.509995</td>\n",
       "      <td>2022-12-06 10:30:00-05:00</td>\n",
       "    </tr>\n",
       "    <tr>\n",
       "      <th>2</th>\n",
       "      <td>Salesforce, Inc.</td>\n",
       "      <td>CRM</td>\n",
       "      <td>133.190002</td>\n",
       "      <td>2022-12-06 11:30:00-05:00</td>\n",
       "    </tr>\n",
       "    <tr>\n",
       "      <th>3</th>\n",
       "      <td>Salesforce, Inc.</td>\n",
       "      <td>CRM</td>\n",
       "      <td>132.910004</td>\n",
       "      <td>2022-12-06 12:30:00-05:00</td>\n",
       "    </tr>\n",
       "    <tr>\n",
       "      <th>4</th>\n",
       "      <td>Salesforce, Inc.</td>\n",
       "      <td>CRM</td>\n",
       "      <td>132.279999</td>\n",
       "      <td>2022-12-06 13:30:00-05:00</td>\n",
       "    </tr>\n",
       "  </tbody>\n",
       "</table>\n",
       "</div>"
      ],
      "text/plain": [
       "               Name Ticker       Price                  Datetime\n",
       "0  Salesforce, Inc.    CRM  132.710007 2022-12-06 09:30:00-05:00\n",
       "1  Salesforce, Inc.    CRM  132.509995 2022-12-06 10:30:00-05:00\n",
       "2  Salesforce, Inc.    CRM  133.190002 2022-12-06 11:30:00-05:00\n",
       "3  Salesforce, Inc.    CRM  132.910004 2022-12-06 12:30:00-05:00\n",
       "4  Salesforce, Inc.    CRM  132.279999 2022-12-06 13:30:00-05:00"
      ]
     },
     "execution_count": 4,
     "metadata": {},
     "output_type": "execute_result"
    }
   ],
   "source": [
    "df_stocks = pd.DataFrame([],columns=['Name','Ticker','Price','Datetime'])\n",
    "\n",
    "for i, j in enumerate(basket):\n",
    "    ## get hourly price data\n",
    "    temp_df = yf.Ticker(j).history(start='2022-12-06', end='2023-01-05', interval=\"1h\")\n",
    "    temp_df.reset_index(drop=False,inplace=True)\n",
    "    temp_df.loc[:,'Ticker'] = j\n",
    "    temp_df.rename(columns={'Open':'Price'},inplace=True)\n",
    "    temp_df.loc[:,'Name'] = yf.Ticker(j).info['longName']\n",
    "    temp_df = temp_df[['Name','Ticker','Price','Datetime']]\n",
    "    df_stocks = pd.concat([df_stocks,temp_df])\n",
    "\n",
    "df_stocks.head()"
   ]
  },
  {
   "cell_type": "code",
   "execution_count": 5,
   "metadata": {},
   "outputs": [
    {
     "data": {
      "text/plain": [
       "array(['CRM', 'MSFT', 'ADBE', 'ORCL', 'NOW', 'WDAY', 'HUBS', 'MNDY',\n",
       "       'TEAM', 'SNOW'], dtype=object)"
      ]
     },
     "execution_count": 5,
     "metadata": {},
     "output_type": "execute_result"
    }
   ],
   "source": [
    "df_stocks['Ticker'].unique()"
   ]
  },
  {
   "cell_type": "code",
   "execution_count": 6,
   "metadata": {},
   "outputs": [],
   "source": [
    "df_stocks['Datetime'] = pd.to_datetime(df_stocks['Datetime'])"
   ]
  },
  {
   "cell_type": "code",
   "execution_count": 7,
   "metadata": {},
   "outputs": [],
   "source": [
    "df_stocks['Date'] = df_stocks['Datetime'].dt.strftime('%Y-%m-%d')\n",
    "df_stocks['Timeseries_Index'] = df_stocks.groupby(['Ticker'],as_index=False).cumcount() + 1\n",
    "df_stocks['Day_Num'] = df_stocks['Date'].rank(method='dense')\n",
    "df_stocks['Hour_Num'] = df_stocks.groupby(['Ticker','Date'],as_index=False).cumcount() + 1\n",
    "\n",
    "df_stocks['Datetime'] = df_stocks['Datetime'].dt.tz_localize(None)"
   ]
  },
  {
   "cell_type": "code",
   "execution_count": 8,
   "metadata": {},
   "outputs": [
    {
     "data": {
      "text/html": [
       "<div>\n",
       "<style scoped>\n",
       "    .dataframe tbody tr th:only-of-type {\n",
       "        vertical-align: middle;\n",
       "    }\n",
       "\n",
       "    .dataframe tbody tr th {\n",
       "        vertical-align: top;\n",
       "    }\n",
       "\n",
       "    .dataframe thead th {\n",
       "        text-align: right;\n",
       "    }\n",
       "</style>\n",
       "<table border=\"1\" class=\"dataframe\">\n",
       "  <thead>\n",
       "    <tr style=\"text-align: right;\">\n",
       "      <th></th>\n",
       "      <th>Name</th>\n",
       "      <th>Ticker</th>\n",
       "      <th>Price</th>\n",
       "      <th>Datetime</th>\n",
       "      <th>Date</th>\n",
       "      <th>Timeseries_Index</th>\n",
       "      <th>Day_Num</th>\n",
       "      <th>Hour_Num</th>\n",
       "    </tr>\n",
       "  </thead>\n",
       "  <tbody>\n",
       "    <tr>\n",
       "      <th>0</th>\n",
       "      <td>Salesforce, Inc.</td>\n",
       "      <td>CRM</td>\n",
       "      <td>132.710007</td>\n",
       "      <td>2022-12-06 09:30:00</td>\n",
       "      <td>2022-12-06</td>\n",
       "      <td>1</td>\n",
       "      <td>1.0</td>\n",
       "      <td>1</td>\n",
       "    </tr>\n",
       "    <tr>\n",
       "      <th>1</th>\n",
       "      <td>Salesforce, Inc.</td>\n",
       "      <td>CRM</td>\n",
       "      <td>132.509995</td>\n",
       "      <td>2022-12-06 10:30:00</td>\n",
       "      <td>2022-12-06</td>\n",
       "      <td>2</td>\n",
       "      <td>1.0</td>\n",
       "      <td>2</td>\n",
       "    </tr>\n",
       "    <tr>\n",
       "      <th>2</th>\n",
       "      <td>Salesforce, Inc.</td>\n",
       "      <td>CRM</td>\n",
       "      <td>133.190002</td>\n",
       "      <td>2022-12-06 11:30:00</td>\n",
       "      <td>2022-12-06</td>\n",
       "      <td>3</td>\n",
       "      <td>1.0</td>\n",
       "      <td>3</td>\n",
       "    </tr>\n",
       "    <tr>\n",
       "      <th>3</th>\n",
       "      <td>Salesforce, Inc.</td>\n",
       "      <td>CRM</td>\n",
       "      <td>132.910004</td>\n",
       "      <td>2022-12-06 12:30:00</td>\n",
       "      <td>2022-12-06</td>\n",
       "      <td>4</td>\n",
       "      <td>1.0</td>\n",
       "      <td>4</td>\n",
       "    </tr>\n",
       "    <tr>\n",
       "      <th>4</th>\n",
       "      <td>Salesforce, Inc.</td>\n",
       "      <td>CRM</td>\n",
       "      <td>132.279999</td>\n",
       "      <td>2022-12-06 13:30:00</td>\n",
       "      <td>2022-12-06</td>\n",
       "      <td>5</td>\n",
       "      <td>1.0</td>\n",
       "      <td>5</td>\n",
       "    </tr>\n",
       "  </tbody>\n",
       "</table>\n",
       "</div>"
      ],
      "text/plain": [
       "               Name Ticker       Price            Datetime        Date  \\\n",
       "0  Salesforce, Inc.    CRM  132.710007 2022-12-06 09:30:00  2022-12-06   \n",
       "1  Salesforce, Inc.    CRM  132.509995 2022-12-06 10:30:00  2022-12-06   \n",
       "2  Salesforce, Inc.    CRM  133.190002 2022-12-06 11:30:00  2022-12-06   \n",
       "3  Salesforce, Inc.    CRM  132.910004 2022-12-06 12:30:00  2022-12-06   \n",
       "4  Salesforce, Inc.    CRM  132.279999 2022-12-06 13:30:00  2022-12-06   \n",
       "\n",
       "   Timeseries_Index  Day_Num  Hour_Num  \n",
       "0                 1      1.0         1  \n",
       "1                 2      1.0         2  \n",
       "2                 3      1.0         3  \n",
       "3                 4      1.0         4  \n",
       "4                 5      1.0         5  "
      ]
     },
     "execution_count": 8,
     "metadata": {},
     "output_type": "execute_result"
    }
   ],
   "source": [
    "df_stocks.head()"
   ]
  },
  {
   "cell_type": "code",
   "execution_count": 9,
   "metadata": {},
   "outputs": [
    {
     "name": "stderr",
     "output_type": "stream",
     "text": [
      "C:\\Users\\Reuel Group\\AppData\\Local\\Temp\\ipykernel_23588\\867132878.py:2: SettingWithCopyWarning: \n",
      "A value is trying to be set on a copy of a slice from a DataFrame.\n",
      "Try using .loc[row_indexer,col_indexer] = value instead\n",
      "\n",
      "See the caveats in the documentation: https://pandas.pydata.org/pandas-docs/stable/user_guide/indexing.html#returning-a-view-versus-a-copy\n",
      "  fig_df['Layoff Announced'] = fig_df['Day_Num']==20\n"
     ]
    },
    {
     "data": {
      "application/vnd.plotly.v1+json": {
       "config": {
        "plotlyServerURL": "https://plot.ly"
       },
       "data": [
        {
         "customdata": [
          [
           "2022-12-06T09:30:00",
           false
          ],
          [
           "2022-12-06T10:30:00",
           false
          ],
          [
           "2022-12-06T11:30:00",
           false
          ],
          [
           "2022-12-06T12:30:00",
           false
          ],
          [
           "2022-12-06T13:30:00",
           false
          ],
          [
           "2022-12-06T14:30:00",
           false
          ],
          [
           "2022-12-06T15:30:00",
           false
          ],
          [
           "2022-12-07T09:30:00",
           false
          ],
          [
           "2022-12-07T10:30:00",
           false
          ],
          [
           "2022-12-07T11:30:00",
           false
          ],
          [
           "2022-12-07T12:30:00",
           false
          ],
          [
           "2022-12-07T13:30:00",
           false
          ],
          [
           "2022-12-07T14:30:00",
           false
          ],
          [
           "2022-12-07T15:30:00",
           false
          ],
          [
           "2022-12-08T09:30:00",
           false
          ],
          [
           "2022-12-08T10:30:00",
           false
          ],
          [
           "2022-12-08T11:30:00",
           false
          ],
          [
           "2022-12-08T12:30:00",
           false
          ],
          [
           "2022-12-08T13:30:00",
           false
          ],
          [
           "2022-12-08T14:30:00",
           false
          ],
          [
           "2022-12-08T15:30:00",
           false
          ],
          [
           "2022-12-09T09:30:00",
           false
          ],
          [
           "2022-12-09T10:30:00",
           false
          ],
          [
           "2022-12-09T11:30:00",
           false
          ],
          [
           "2022-12-09T12:30:00",
           false
          ],
          [
           "2022-12-09T13:30:00",
           false
          ],
          [
           "2022-12-09T14:30:00",
           false
          ],
          [
           "2022-12-09T15:30:00",
           false
          ],
          [
           "2022-12-12T09:30:00",
           false
          ],
          [
           "2022-12-12T10:30:00",
           false
          ],
          [
           "2022-12-12T11:30:00",
           false
          ],
          [
           "2022-12-12T12:30:00",
           false
          ],
          [
           "2022-12-12T13:30:00",
           false
          ],
          [
           "2022-12-12T14:30:00",
           false
          ],
          [
           "2022-12-12T15:30:00",
           false
          ],
          [
           "2022-12-13T09:30:00",
           false
          ],
          [
           "2022-12-13T10:30:00",
           false
          ],
          [
           "2022-12-13T11:30:00",
           false
          ],
          [
           "2022-12-13T12:30:00",
           false
          ],
          [
           "2022-12-13T13:30:00",
           false
          ],
          [
           "2022-12-13T14:30:00",
           false
          ],
          [
           "2022-12-13T15:30:00",
           false
          ],
          [
           "2022-12-14T09:30:00",
           false
          ],
          [
           "2022-12-14T10:30:00",
           false
          ],
          [
           "2022-12-14T11:30:00",
           false
          ],
          [
           "2022-12-14T12:30:00",
           false
          ],
          [
           "2022-12-14T13:30:00",
           false
          ],
          [
           "2022-12-14T14:30:00",
           false
          ],
          [
           "2022-12-14T15:30:00",
           false
          ],
          [
           "2022-12-15T09:30:00",
           false
          ],
          [
           "2022-12-15T10:30:00",
           false
          ],
          [
           "2022-12-15T11:30:00",
           false
          ],
          [
           "2022-12-15T12:30:00",
           false
          ],
          [
           "2022-12-15T13:30:00",
           false
          ],
          [
           "2022-12-15T14:30:00",
           false
          ],
          [
           "2022-12-15T15:30:00",
           false
          ],
          [
           "2022-12-16T09:30:00",
           false
          ],
          [
           "2022-12-16T10:30:00",
           false
          ],
          [
           "2022-12-16T11:30:00",
           false
          ],
          [
           "2022-12-16T12:30:00",
           false
          ],
          [
           "2022-12-16T13:30:00",
           false
          ],
          [
           "2022-12-16T14:30:00",
           false
          ],
          [
           "2022-12-16T15:30:00",
           false
          ],
          [
           "2022-12-19T09:30:00",
           false
          ],
          [
           "2022-12-19T10:30:00",
           false
          ],
          [
           "2022-12-19T11:30:00",
           false
          ],
          [
           "2022-12-19T12:30:00",
           false
          ],
          [
           "2022-12-19T13:30:00",
           false
          ],
          [
           "2022-12-19T14:30:00",
           false
          ],
          [
           "2022-12-19T15:30:00",
           false
          ],
          [
           "2022-12-20T09:30:00",
           false
          ],
          [
           "2022-12-20T10:30:00",
           false
          ],
          [
           "2022-12-20T11:30:00",
           false
          ],
          [
           "2022-12-20T12:30:00",
           false
          ],
          [
           "2022-12-20T13:30:00",
           false
          ],
          [
           "2022-12-20T14:30:00",
           false
          ],
          [
           "2022-12-20T15:30:00",
           false
          ],
          [
           "2022-12-21T09:30:00",
           false
          ],
          [
           "2022-12-21T10:30:00",
           false
          ],
          [
           "2022-12-21T11:30:00",
           false
          ],
          [
           "2022-12-21T12:30:00",
           false
          ],
          [
           "2022-12-21T13:30:00",
           false
          ],
          [
           "2022-12-21T14:30:00",
           false
          ],
          [
           "2022-12-21T15:30:00",
           false
          ],
          [
           "2022-12-22T09:30:00",
           false
          ],
          [
           "2022-12-22T10:30:00",
           false
          ],
          [
           "2022-12-22T11:30:00",
           false
          ],
          [
           "2022-12-22T12:30:00",
           false
          ],
          [
           "2022-12-22T13:30:00",
           false
          ],
          [
           "2022-12-22T14:30:00",
           false
          ],
          [
           "2022-12-22T15:30:00",
           false
          ],
          [
           "2022-12-23T09:30:00",
           false
          ],
          [
           "2022-12-23T10:30:00",
           false
          ],
          [
           "2022-12-23T11:30:00",
           false
          ],
          [
           "2022-12-23T12:30:00",
           false
          ],
          [
           "2022-12-23T13:30:00",
           false
          ],
          [
           "2022-12-23T14:30:00",
           false
          ],
          [
           "2022-12-23T15:30:00",
           false
          ],
          [
           "2022-12-27T09:30:00",
           false
          ],
          [
           "2022-12-27T10:30:00",
           false
          ],
          [
           "2022-12-27T11:30:00",
           false
          ],
          [
           "2022-12-27T12:30:00",
           false
          ],
          [
           "2022-12-27T13:30:00",
           false
          ],
          [
           "2022-12-27T14:30:00",
           false
          ],
          [
           "2022-12-27T15:30:00",
           false
          ],
          [
           "2022-12-28T09:30:00",
           false
          ],
          [
           "2022-12-28T10:30:00",
           false
          ],
          [
           "2022-12-28T11:30:00",
           false
          ],
          [
           "2022-12-28T12:30:00",
           false
          ],
          [
           "2022-12-28T13:30:00",
           false
          ],
          [
           "2022-12-28T14:30:00",
           false
          ],
          [
           "2022-12-28T15:30:00",
           false
          ],
          [
           "2022-12-29T09:30:00",
           false
          ],
          [
           "2022-12-29T10:30:00",
           false
          ],
          [
           "2022-12-29T11:30:00",
           false
          ],
          [
           "2022-12-29T12:30:00",
           false
          ],
          [
           "2022-12-29T13:30:00",
           false
          ],
          [
           "2022-12-29T14:30:00",
           false
          ],
          [
           "2022-12-29T15:30:00",
           false
          ],
          [
           "2022-12-30T09:30:00",
           false
          ],
          [
           "2022-12-30T10:30:00",
           false
          ],
          [
           "2022-12-30T11:30:00",
           false
          ],
          [
           "2022-12-30T12:30:00",
           false
          ],
          [
           "2022-12-30T13:30:00",
           false
          ],
          [
           "2022-12-30T14:30:00",
           false
          ],
          [
           "2022-12-30T15:30:00",
           false
          ],
          [
           "2023-01-03T09:30:00",
           false
          ],
          [
           "2023-01-03T10:30:00",
           false
          ],
          [
           "2023-01-03T11:30:00",
           false
          ],
          [
           "2023-01-03T12:30:00",
           false
          ],
          [
           "2023-01-03T13:30:00",
           false
          ],
          [
           "2023-01-03T14:30:00",
           false
          ],
          [
           "2023-01-03T15:30:00",
           false
          ]
         ],
         "hovertemplate": "Layoff Announced=%{customdata[1]}<br>Timeseries_Index=%{x}<br>Price=%{y}<br>Datetime=%{customdata[0]}<extra></extra>",
         "legendgroup": "False",
         "line": {
          "color": "#636efa",
          "dash": "solid"
         },
         "marker": {
          "symbol": "circle"
         },
         "mode": "markers+lines",
         "name": "False",
         "orientation": "v",
         "showlegend": true,
         "type": "scatter",
         "x": [
          1,
          2,
          3,
          4,
          5,
          6,
          7,
          8,
          9,
          10,
          11,
          12,
          13,
          14,
          15,
          16,
          17,
          18,
          19,
          20,
          21,
          22,
          23,
          24,
          25,
          26,
          27,
          28,
          29,
          30,
          31,
          32,
          33,
          34,
          35,
          36,
          37,
          38,
          39,
          40,
          41,
          42,
          43,
          44,
          45,
          46,
          47,
          48,
          49,
          50,
          51,
          52,
          53,
          54,
          55,
          56,
          57,
          58,
          59,
          60,
          61,
          62,
          63,
          64,
          65,
          66,
          67,
          68,
          69,
          70,
          71,
          72,
          73,
          74,
          75,
          76,
          77,
          78,
          79,
          80,
          81,
          82,
          83,
          84,
          85,
          86,
          87,
          88,
          89,
          90,
          91,
          92,
          93,
          94,
          95,
          96,
          97,
          98,
          99,
          100,
          101,
          102,
          103,
          104,
          105,
          106,
          107,
          108,
          109,
          110,
          111,
          112,
          113,
          114,
          115,
          116,
          117,
          118,
          119,
          120,
          121,
          122,
          123,
          124,
          125,
          126,
          127,
          128,
          129,
          130,
          131,
          132,
          133
         ],
         "xaxis": "x",
         "y": [
          132.7100067138672,
          132.50999450683594,
          133.19000244140625,
          132.91000366210938,
          132.27999877929688,
          132.72000122070312,
          132.47000122070312,
          132.5,
          131.75999450683594,
          130.39500427246094,
          130.30999755859375,
          131.27999877929688,
          130.75,
          130.89999389648438,
          128.42999267578125,
          131.02000427246094,
          130.35000610351562,
          130.10000610351562,
          130.16000366210938,
          129.97999572753906,
          130.19500732421875,
          129.74000549316406,
          130.67999267578125,
          132.30250549316406,
          132.6699981689453,
          132.22999572753906,
          132.19000244140625,
          131.83999633789062,
          131.10000610351562,
          133.3300018310547,
          133.5800018310547,
          132.97000122070312,
          132.73500061035156,
          132.35000610351562,
          132.83999633789062,
          137.38999938964844,
          137.72000122070312,
          136.74000549316406,
          134.64999389648438,
          135.64999389648438,
          135.22000122070312,
          135.3000030517578,
          135.00999450683594,
          137.02499389648438,
          136.97500610351562,
          136.5800018310547,
          136.14999389648438,
          134.77999877929688,
          134.27999877929688,
          131.6699981689453,
          132.89999389648438,
          131.5449981689453,
          131.38999938964844,
          130.5,
          130.07000732421875,
          131.05999755859375,
          128.9199981689453,
          128.42999267578125,
          126.98999786376953,
          127.33999633789062,
          127.51000213623047,
          127.5199966430664,
          128.6999969482422,
          128.2899932861328,
          129.44000244140625,
          128.33999633789062,
          128.0399932861328,
          127.9000015258789,
          127.44999694824219,
          128.05499267578125,
          127.5,
          129.19000244140625,
          128.9199981689453,
          129.2100067138672,
          129.32000732421875,
          128.4600067138672,
          128.41000366210938,
          128.58999633789062,
          130.67999267578125,
          131.9499969482422,
          131.13999938964844,
          130.58999633789062,
          130.6199951171875,
          130.3300018310547,
          128.6699981689453,
          127.9000015258789,
          127.37999725341797,
          127.02999877929688,
          126.875,
          127.2699966430664,
          129.1750030517578,
          128.72999572753906,
          128.70660400390625,
          128.27499389648438,
          128.8000030517578,
          128.55499267578125,
          129.16000366210938,
          129.25,
          128.55999755859375,
          129.22000122070312,
          131.19500732421875,
          131.14999389648438,
          130.5,
          130.59010314941406,
          130.82000732421875,
          129.7100067138672,
          130.3000030517578,
          129.77000427246094,
          129.02000427246094,
          129.36000061035156,
          128.51499938964844,
          128.52000427246094,
          129.6999969482422,
          130.8699951171875,
          132.22000122070312,
          132.5500030517578,
          131.92999267578125,
          132.19000244140625,
          132.6300048828125,
          130.61000061035156,
          130.83999633789062,
          130.86000061035156,
          131.375,
          130.83999633789062,
          131.08999633789062,
          131.701904296875,
          135.19000244140625,
          134.11500549316406,
          133.56500244140625,
          133.5,
          133.47999572753906,
          134.14500427246094,
          135.0749969482422
         ],
         "yaxis": "y"
        },
        {
         "customdata": [
          [
           "2023-01-04T09:30:00",
           true
          ],
          [
           "2023-01-04T10:30:00",
           true
          ],
          [
           "2023-01-04T11:30:00",
           true
          ],
          [
           "2023-01-04T12:30:00",
           true
          ],
          [
           "2023-01-04T13:30:00",
           true
          ],
          [
           "2023-01-04T14:30:00",
           true
          ],
          [
           "2023-01-04T15:30:00",
           true
          ]
         ],
         "hovertemplate": "Layoff Announced=%{customdata[1]}<br>Timeseries_Index=%{x}<br>Price=%{y}<br>Datetime=%{customdata[0]}<extra></extra>",
         "legendgroup": "True",
         "line": {
          "color": "#EF553B",
          "dash": "solid"
         },
         "marker": {
          "symbol": "circle"
         },
         "mode": "markers+lines",
         "name": "True",
         "orientation": "v",
         "showlegend": true,
         "type": "scatter",
         "x": [
          134,
          135,
          136,
          137,
          138,
          139,
          140
         ],
         "xaxis": "x",
         "y": [
          141.22000122070312,
          138.49000549316406,
          138.6300048828125,
          139.3300018310547,
          139.3000030517578,
          137.8800048828125,
          138.9600067138672
         ],
         "yaxis": "y"
        }
       ],
       "layout": {
        "legend": {
         "title": {
          "text": "Layoff Announced"
         },
         "tracegroupgap": 0
        },
        "plot_bgcolor": "#f5f6f7",
        "shapes": [
         {
          "line": {
           "color": "#959696",
           "dash": "dot",
           "width": 2
          },
          "type": "line",
          "x0": "133",
          "x1": "133",
          "xref": "x",
          "y0": 0,
          "y1": 1,
          "yref": "paper"
         }
        ],
        "template": {
         "data": {
          "bar": [
           {
            "error_x": {
             "color": "#2a3f5f"
            },
            "error_y": {
             "color": "#2a3f5f"
            },
            "marker": {
             "line": {
              "color": "#E5ECF6",
              "width": 0.5
             },
             "pattern": {
              "fillmode": "overlay",
              "size": 10,
              "solidity": 0.2
             }
            },
            "type": "bar"
           }
          ],
          "barpolar": [
           {
            "marker": {
             "line": {
              "color": "#E5ECF6",
              "width": 0.5
             },
             "pattern": {
              "fillmode": "overlay",
              "size": 10,
              "solidity": 0.2
             }
            },
            "type": "barpolar"
           }
          ],
          "carpet": [
           {
            "aaxis": {
             "endlinecolor": "#2a3f5f",
             "gridcolor": "white",
             "linecolor": "white",
             "minorgridcolor": "white",
             "startlinecolor": "#2a3f5f"
            },
            "baxis": {
             "endlinecolor": "#2a3f5f",
             "gridcolor": "white",
             "linecolor": "white",
             "minorgridcolor": "white",
             "startlinecolor": "#2a3f5f"
            },
            "type": "carpet"
           }
          ],
          "choropleth": [
           {
            "colorbar": {
             "outlinewidth": 0,
             "ticks": ""
            },
            "type": "choropleth"
           }
          ],
          "contour": [
           {
            "colorbar": {
             "outlinewidth": 0,
             "ticks": ""
            },
            "colorscale": [
             [
              0,
              "#0d0887"
             ],
             [
              0.1111111111111111,
              "#46039f"
             ],
             [
              0.2222222222222222,
              "#7201a8"
             ],
             [
              0.3333333333333333,
              "#9c179e"
             ],
             [
              0.4444444444444444,
              "#bd3786"
             ],
             [
              0.5555555555555556,
              "#d8576b"
             ],
             [
              0.6666666666666666,
              "#ed7953"
             ],
             [
              0.7777777777777778,
              "#fb9f3a"
             ],
             [
              0.8888888888888888,
              "#fdca26"
             ],
             [
              1,
              "#f0f921"
             ]
            ],
            "type": "contour"
           }
          ],
          "contourcarpet": [
           {
            "colorbar": {
             "outlinewidth": 0,
             "ticks": ""
            },
            "type": "contourcarpet"
           }
          ],
          "heatmap": [
           {
            "colorbar": {
             "outlinewidth": 0,
             "ticks": ""
            },
            "colorscale": [
             [
              0,
              "#0d0887"
             ],
             [
              0.1111111111111111,
              "#46039f"
             ],
             [
              0.2222222222222222,
              "#7201a8"
             ],
             [
              0.3333333333333333,
              "#9c179e"
             ],
             [
              0.4444444444444444,
              "#bd3786"
             ],
             [
              0.5555555555555556,
              "#d8576b"
             ],
             [
              0.6666666666666666,
              "#ed7953"
             ],
             [
              0.7777777777777778,
              "#fb9f3a"
             ],
             [
              0.8888888888888888,
              "#fdca26"
             ],
             [
              1,
              "#f0f921"
             ]
            ],
            "type": "heatmap"
           }
          ],
          "heatmapgl": [
           {
            "colorbar": {
             "outlinewidth": 0,
             "ticks": ""
            },
            "colorscale": [
             [
              0,
              "#0d0887"
             ],
             [
              0.1111111111111111,
              "#46039f"
             ],
             [
              0.2222222222222222,
              "#7201a8"
             ],
             [
              0.3333333333333333,
              "#9c179e"
             ],
             [
              0.4444444444444444,
              "#bd3786"
             ],
             [
              0.5555555555555556,
              "#d8576b"
             ],
             [
              0.6666666666666666,
              "#ed7953"
             ],
             [
              0.7777777777777778,
              "#fb9f3a"
             ],
             [
              0.8888888888888888,
              "#fdca26"
             ],
             [
              1,
              "#f0f921"
             ]
            ],
            "type": "heatmapgl"
           }
          ],
          "histogram": [
           {
            "marker": {
             "pattern": {
              "fillmode": "overlay",
              "size": 10,
              "solidity": 0.2
             }
            },
            "type": "histogram"
           }
          ],
          "histogram2d": [
           {
            "colorbar": {
             "outlinewidth": 0,
             "ticks": ""
            },
            "colorscale": [
             [
              0,
              "#0d0887"
             ],
             [
              0.1111111111111111,
              "#46039f"
             ],
             [
              0.2222222222222222,
              "#7201a8"
             ],
             [
              0.3333333333333333,
              "#9c179e"
             ],
             [
              0.4444444444444444,
              "#bd3786"
             ],
             [
              0.5555555555555556,
              "#d8576b"
             ],
             [
              0.6666666666666666,
              "#ed7953"
             ],
             [
              0.7777777777777778,
              "#fb9f3a"
             ],
             [
              0.8888888888888888,
              "#fdca26"
             ],
             [
              1,
              "#f0f921"
             ]
            ],
            "type": "histogram2d"
           }
          ],
          "histogram2dcontour": [
           {
            "colorbar": {
             "outlinewidth": 0,
             "ticks": ""
            },
            "colorscale": [
             [
              0,
              "#0d0887"
             ],
             [
              0.1111111111111111,
              "#46039f"
             ],
             [
              0.2222222222222222,
              "#7201a8"
             ],
             [
              0.3333333333333333,
              "#9c179e"
             ],
             [
              0.4444444444444444,
              "#bd3786"
             ],
             [
              0.5555555555555556,
              "#d8576b"
             ],
             [
              0.6666666666666666,
              "#ed7953"
             ],
             [
              0.7777777777777778,
              "#fb9f3a"
             ],
             [
              0.8888888888888888,
              "#fdca26"
             ],
             [
              1,
              "#f0f921"
             ]
            ],
            "type": "histogram2dcontour"
           }
          ],
          "mesh3d": [
           {
            "colorbar": {
             "outlinewidth": 0,
             "ticks": ""
            },
            "type": "mesh3d"
           }
          ],
          "parcoords": [
           {
            "line": {
             "colorbar": {
              "outlinewidth": 0,
              "ticks": ""
             }
            },
            "type": "parcoords"
           }
          ],
          "pie": [
           {
            "automargin": true,
            "type": "pie"
           }
          ],
          "scatter": [
           {
            "fillpattern": {
             "fillmode": "overlay",
             "size": 10,
             "solidity": 0.2
            },
            "type": "scatter"
           }
          ],
          "scatter3d": [
           {
            "line": {
             "colorbar": {
              "outlinewidth": 0,
              "ticks": ""
             }
            },
            "marker": {
             "colorbar": {
              "outlinewidth": 0,
              "ticks": ""
             }
            },
            "type": "scatter3d"
           }
          ],
          "scattercarpet": [
           {
            "marker": {
             "colorbar": {
              "outlinewidth": 0,
              "ticks": ""
             }
            },
            "type": "scattercarpet"
           }
          ],
          "scattergeo": [
           {
            "marker": {
             "colorbar": {
              "outlinewidth": 0,
              "ticks": ""
             }
            },
            "type": "scattergeo"
           }
          ],
          "scattergl": [
           {
            "marker": {
             "colorbar": {
              "outlinewidth": 0,
              "ticks": ""
             }
            },
            "type": "scattergl"
           }
          ],
          "scattermapbox": [
           {
            "marker": {
             "colorbar": {
              "outlinewidth": 0,
              "ticks": ""
             }
            },
            "type": "scattermapbox"
           }
          ],
          "scatterpolar": [
           {
            "marker": {
             "colorbar": {
              "outlinewidth": 0,
              "ticks": ""
             }
            },
            "type": "scatterpolar"
           }
          ],
          "scatterpolargl": [
           {
            "marker": {
             "colorbar": {
              "outlinewidth": 0,
              "ticks": ""
             }
            },
            "type": "scatterpolargl"
           }
          ],
          "scatterternary": [
           {
            "marker": {
             "colorbar": {
              "outlinewidth": 0,
              "ticks": ""
             }
            },
            "type": "scatterternary"
           }
          ],
          "surface": [
           {
            "colorbar": {
             "outlinewidth": 0,
             "ticks": ""
            },
            "colorscale": [
             [
              0,
              "#0d0887"
             ],
             [
              0.1111111111111111,
              "#46039f"
             ],
             [
              0.2222222222222222,
              "#7201a8"
             ],
             [
              0.3333333333333333,
              "#9c179e"
             ],
             [
              0.4444444444444444,
              "#bd3786"
             ],
             [
              0.5555555555555556,
              "#d8576b"
             ],
             [
              0.6666666666666666,
              "#ed7953"
             ],
             [
              0.7777777777777778,
              "#fb9f3a"
             ],
             [
              0.8888888888888888,
              "#fdca26"
             ],
             [
              1,
              "#f0f921"
             ]
            ],
            "type": "surface"
           }
          ],
          "table": [
           {
            "cells": {
             "fill": {
              "color": "#EBF0F8"
             },
             "line": {
              "color": "white"
             }
            },
            "header": {
             "fill": {
              "color": "#C8D4E3"
             },
             "line": {
              "color": "white"
             }
            },
            "type": "table"
           }
          ]
         },
         "layout": {
          "annotationdefaults": {
           "arrowcolor": "#2a3f5f",
           "arrowhead": 0,
           "arrowwidth": 1
          },
          "autotypenumbers": "strict",
          "coloraxis": {
           "colorbar": {
            "outlinewidth": 0,
            "ticks": ""
           }
          },
          "colorscale": {
           "diverging": [
            [
             0,
             "#8e0152"
            ],
            [
             0.1,
             "#c51b7d"
            ],
            [
             0.2,
             "#de77ae"
            ],
            [
             0.3,
             "#f1b6da"
            ],
            [
             0.4,
             "#fde0ef"
            ],
            [
             0.5,
             "#f7f7f7"
            ],
            [
             0.6,
             "#e6f5d0"
            ],
            [
             0.7,
             "#b8e186"
            ],
            [
             0.8,
             "#7fbc41"
            ],
            [
             0.9,
             "#4d9221"
            ],
            [
             1,
             "#276419"
            ]
           ],
           "sequential": [
            [
             0,
             "#0d0887"
            ],
            [
             0.1111111111111111,
             "#46039f"
            ],
            [
             0.2222222222222222,
             "#7201a8"
            ],
            [
             0.3333333333333333,
             "#9c179e"
            ],
            [
             0.4444444444444444,
             "#bd3786"
            ],
            [
             0.5555555555555556,
             "#d8576b"
            ],
            [
             0.6666666666666666,
             "#ed7953"
            ],
            [
             0.7777777777777778,
             "#fb9f3a"
            ],
            [
             0.8888888888888888,
             "#fdca26"
            ],
            [
             1,
             "#f0f921"
            ]
           ],
           "sequentialminus": [
            [
             0,
             "#0d0887"
            ],
            [
             0.1111111111111111,
             "#46039f"
            ],
            [
             0.2222222222222222,
             "#7201a8"
            ],
            [
             0.3333333333333333,
             "#9c179e"
            ],
            [
             0.4444444444444444,
             "#bd3786"
            ],
            [
             0.5555555555555556,
             "#d8576b"
            ],
            [
             0.6666666666666666,
             "#ed7953"
            ],
            [
             0.7777777777777778,
             "#fb9f3a"
            ],
            [
             0.8888888888888888,
             "#fdca26"
            ],
            [
             1,
             "#f0f921"
            ]
           ]
          },
          "colorway": [
           "#636efa",
           "#EF553B",
           "#00cc96",
           "#ab63fa",
           "#FFA15A",
           "#19d3f3",
           "#FF6692",
           "#B6E880",
           "#FF97FF",
           "#FECB52"
          ],
          "font": {
           "color": "#2a3f5f"
          },
          "geo": {
           "bgcolor": "white",
           "lakecolor": "white",
           "landcolor": "#E5ECF6",
           "showlakes": true,
           "showland": true,
           "subunitcolor": "white"
          },
          "hoverlabel": {
           "align": "left"
          },
          "hovermode": "closest",
          "mapbox": {
           "style": "light"
          },
          "paper_bgcolor": "white",
          "plot_bgcolor": "#E5ECF6",
          "polar": {
           "angularaxis": {
            "gridcolor": "white",
            "linecolor": "white",
            "ticks": ""
           },
           "bgcolor": "#E5ECF6",
           "radialaxis": {
            "gridcolor": "white",
            "linecolor": "white",
            "ticks": ""
           }
          },
          "scene": {
           "xaxis": {
            "backgroundcolor": "#E5ECF6",
            "gridcolor": "white",
            "gridwidth": 2,
            "linecolor": "white",
            "showbackground": true,
            "ticks": "",
            "zerolinecolor": "white"
           },
           "yaxis": {
            "backgroundcolor": "#E5ECF6",
            "gridcolor": "white",
            "gridwidth": 2,
            "linecolor": "white",
            "showbackground": true,
            "ticks": "",
            "zerolinecolor": "white"
           },
           "zaxis": {
            "backgroundcolor": "#E5ECF6",
            "gridcolor": "white",
            "gridwidth": 2,
            "linecolor": "white",
            "showbackground": true,
            "ticks": "",
            "zerolinecolor": "white"
           }
          },
          "shapedefaults": {
           "line": {
            "color": "#2a3f5f"
           }
          },
          "ternary": {
           "aaxis": {
            "gridcolor": "white",
            "linecolor": "white",
            "ticks": ""
           },
           "baxis": {
            "gridcolor": "white",
            "linecolor": "white",
            "ticks": ""
           },
           "bgcolor": "#E5ECF6",
           "caxis": {
            "gridcolor": "white",
            "linecolor": "white",
            "ticks": ""
           }
          },
          "title": {
           "x": 0.05
          },
          "xaxis": {
           "automargin": true,
           "gridcolor": "white",
           "linecolor": "white",
           "ticks": "",
           "title": {
            "standoff": 15
           },
           "zerolinecolor": "white",
           "zerolinewidth": 2
          },
          "yaxis": {
           "automargin": true,
           "gridcolor": "white",
           "linecolor": "white",
           "ticks": "",
           "title": {
            "standoff": 15
           },
           "zerolinecolor": "white",
           "zerolinewidth": 2
          }
         }
        },
        "title": {
         "text": "Stock price for Salesforce, Inc. (CRM)"
        },
        "xaxis": {
         "anchor": "y",
         "domain": [
          0,
          1
         ],
         "title": {
          "text": "Timeseries_Index"
         }
        },
        "yaxis": {
         "anchor": "x",
         "domain": [
          0,
          1
         ],
         "title": {
          "text": "Price"
         }
        }
       }
      }
     },
     "metadata": {},
     "output_type": "display_data"
    }
   ],
   "source": [
    "fig_df = df_stocks[df_stocks['Ticker'].isin(['CRM'])]\n",
    "fig_df['Layoff Announced'] = fig_df['Day_Num']==20\n",
    "fig = px.line(fig_df\n",
    "              ,x='Timeseries_Index'\n",
    "              ,y='Price'\n",
    "              ,markers=True\n",
    "              ,color='Layoff Announced'\n",
    "              ,hover_data=['Datetime','Timeseries_Index','Price','Layoff Announced']\n",
    "              ,title='Stock price for {} ({})'.format(fig_df['Name'].unique()[0],fig_df['Ticker'].unique()[0]))\n",
    "\n",
    "fig.update_layout(shapes=\n",
    "                  [dict(type= 'line',\n",
    "                        yref= 'paper', y0= 0, y1= 1,\n",
    "                        xref= 'x', x0='133', x1='133',\n",
    "                        line=dict(color=\"#959696\",\n",
    "                                  width=2,\n",
    "                                  dash=\"dot\"))]\n",
    "                 ,plot_bgcolor='#f5f6f7')\n",
    "fig.show()"
   ]
  },
  {
   "cell_type": "code",
   "execution_count": 12,
   "metadata": {},
   "outputs": [
    {
     "name": "stdout",
     "output_type": "stream",
     "text": [
      "Pre-Post last price vs first price: 4.55%\n",
      "Pre-Post prior day average price vs post day average price: 3.70%\n"
     ]
    }
   ],
   "source": [
    "## prior day last price vs post day first price\n",
    "#prior day last price\n",
    "pdlp = df_stocks[(df_stocks['Ticker']=='CRM') & (df_stocks['Timeseries_Index']==133)]['Price'].values[0]\n",
    "\n",
    "#post day first price\n",
    "pdfp = df_stocks[(df_stocks['Ticker']=='CRM') & (df_stocks['Timeseries_Index']==134)]['Price'].values[0]\n",
    "\n",
    "pre_post1 = round((pdfp-pdlp)/pdlp,4)\n",
    "print('Pre-Post last price vs first price: {:.2%}'.format(pre_post1))\n",
    "\n",
    "## prior day average vs post day average\n",
    "\n",
    "prda = df_stocks[(df_stocks['Ticker']=='CRM') & (df_stocks['Date']=='2023-01-03')]['Price'].mean()\n",
    "\n",
    "#post day first price\n",
    "poda = df_stocks[(df_stocks['Ticker']=='CRM') & (df_stocks['Date']=='2023-01-04')]['Price'].mean()\n",
    "\n",
    "pre_post1 = round((poda-prda)/prda,4)\n",
    "print('Pre-Post prior day average price vs post day average price: {:.2%}'.format(pre_post1))"
   ]
  },
  {
   "cell_type": "code",
   "execution_count": 11,
   "metadata": {},
   "outputs": [
    {
     "name": "stderr",
     "output_type": "stream",
     "text": [
      "C:\\Users\\Reuel Group\\AppData\\Local\\Temp\\ipykernel_23588\\2484785428.py:3: FutureWarning:\n",
      "\n",
      "The provided callable <function mean at 0x0000021BC0F4FE20> is currently using SeriesGroupBy.mean. In a future version of pandas, the provided callable will be used directly. To keep current behavior pass the string \"mean\" instead.\n",
      "\n"
     ]
    },
    {
     "data": {
      "application/vnd.plotly.v1+json": {
       "config": {
        "plotlyServerURL": "https://plot.ly"
       },
       "data": [
        {
         "hovertemplate": "Ticker=CRM<br>Timeseries_Index=%{x}<br>Relative_Price=%{y}<extra></extra>",
         "legendgroup": "CRM",
         "line": {
          "color": "#636efa",
          "dash": "solid"
         },
         "marker": {
          "symbol": "circle"
         },
         "mode": "markers+lines",
         "name": "CRM",
         "orientation": "v",
         "showlegend": true,
         "type": "scatter",
         "x": [
          1,
          2,
          3,
          4,
          5,
          6,
          7,
          8,
          9,
          10,
          11,
          12,
          13,
          14,
          15,
          16,
          17,
          18,
          19,
          20,
          21,
          22,
          23,
          24,
          25,
          26,
          27,
          28,
          29,
          30,
          31,
          32,
          33,
          34,
          35,
          36,
          37,
          38,
          39,
          40,
          41,
          42,
          43,
          44,
          45,
          46,
          47,
          48,
          49,
          50,
          51,
          52,
          53,
          54,
          55,
          56,
          57,
          58,
          59,
          60,
          61,
          62,
          63,
          64,
          65,
          66,
          67,
          68,
          69,
          70,
          71,
          72,
          73,
          74,
          75,
          76,
          77,
          78,
          79,
          80,
          81,
          82,
          83,
          84,
          85,
          86,
          87,
          88,
          89,
          90,
          91,
          92,
          93,
          94,
          95,
          96,
          97,
          98,
          99,
          100,
          101,
          102,
          103,
          104,
          105,
          106,
          107,
          108,
          109,
          110,
          111,
          112,
          113,
          114,
          115,
          116,
          117,
          118,
          119,
          120,
          121,
          122,
          123,
          124,
          125,
          126,
          127,
          128,
          129,
          130,
          131,
          132,
          133,
          134,
          135,
          136,
          137,
          138,
          139,
          140
         ],
         "xaxis": "x",
         "y": [
          1,
          0.9984928626560732,
          1.0036168766728644,
          1.0015070223654905,
          0.996759792684681,
          1.0000753108758218,
          0.9981915041743497,
          0.9984175517802514,
          0.9928414425516566,
          0.9825559315478178,
          0.9819153866788053,
          0.9892245658787923,
          0.9852309048699461,
          0.9863611428994549,
          0.9677491234906349,
          0.9872654483014983,
          0.9822168601389653,
          0.9803330534374931,
          0.9807851486492966,
          0.9794287480354497,
          0.9810489091823275,
          0.9776203671882356,
          0.9847033838038844,
          0.9969293858783255,
          0.99969852653984,
          0.9963830083486992,
          0.9960816498669757,
          0.9934442744935401,
          0.9878682802433818,
          1.0046718038265514,
          1.0065556105280236,
          1.001959117577294,
          1.0001883346787728,
          0.9972873137507426,
          1.0009795012994287,
          1.0352648062619096,
          1.0377514449052652,
          1.0303669548294565,
          1.0146182434215376,
          1.0221534702274262,
          1.0189133778905435,
          1.019516209832427,
          1.0173309296707949,
          1.0325144070855232,
          1.032137737727978,
          1.0291612909456895,
          1.0259210836303705,
          1.0155978596994026,
          1.0118302462964583,
          0.9921632997339513,
          1.0014315965112324,
          0.9912213963832153,
          0.9900534454265775,
          0.983347098168474,
          0.9801070058315913,
          0.9875668067832218,
          0.9714414260177575,
          0.9677491234906349,
          0.9568984359828236,
          0.959535753867041,
          0.9608167861158479,
          0.9608920969916697,
          0.9697836669221871,
          0.966694196336948,
          0.9753597761507818,
          0.9670709806729297,
          0.9648103896354758,
          0.9637555199710071,
          0.9603646334148263,
          0.9649234134384267,
          0.9607414177508079,
          0.9734759694493096,
          0.9714414260177575,
          0.9736267061793896,
          0.9744555857271748,
          0.9679752860749731,
          0.9675985017389913,
          0.9689547873744019,
          0.9847033838038844,
          0.9942731540413253,
          0.9881696387251053,
          0.9840252409861793,
          0.984251288592081,
          0.9820661234088853,
          0.9695576193162854,
          0.9637555199710071,
          0.9598371698379827,
          0.9571998519537653,
          0.9560319009971275,
          0.9590082902901975,
          0.9733629456463587,
          0.9700097145280888,
          0.9698334525851349,
          0.9665811725339971,
          0.9705372355941505,
          0.968691026841371,
          0.9732499218434079,
          0.9739280646611131,
          0.9687287397685002,
          0.9737020170552114,
          0.988584135988216,
          0.9882449496009271,
          0.983347098168474,
          0.9840260458352338,
          0.9857584259360078,
          0.9773943195823339,
          0.9818400758029835,
          0.9778464147941375,
          0.9721949946897209,
          0.9747569442088984,
          0.9683896683596475,
          0.9684273812867765,
          0.9773188937280758,
          0.9861350952935531,
          0.9963076974728774,
          0.998794336116233,
          0.9941224173112454,
          0.9960816498669757,
          0.9993971680581165,
          0.9841759777162592,
          0.9859090476876514,
          0.9860597844177313,
          0.9899404216236266,
          0.9859090476876514,
          0.9877928543891236,
          0.9924037196443993,
          1.0186873302846418,
          1.0105869844639987,
          1.0064425867250726,
          1.00595277858614,
          1.00580204185606,
          1.0108130320699005,
          1.0178207378097275,
          1.0641247387258757,
          1.0435536017397617,
          1.0446085288934486,
          1.0498831646618836,
          1.0496571170559816,
          1.0389571087890321,
          1.0470951675368043
         ],
         "yaxis": "y"
        },
        {
         "hovertemplate": "Ticker=BASKET<br>Timeseries_Index=%{x}<br>Relative_Price=%{y}<extra></extra>",
         "legendgroup": "BASKET",
         "line": {
          "color": "#EF553B",
          "dash": "solid"
         },
         "marker": {
          "symbol": "circle"
         },
         "mode": "markers+lines",
         "name": "BASKET",
         "orientation": "v",
         "showlegend": true,
         "type": "scatter",
         "x": [
          1,
          2,
          3,
          4,
          5,
          6,
          7,
          8,
          9,
          10,
          11,
          12,
          13,
          14,
          15,
          16,
          17,
          18,
          19,
          20,
          21,
          22,
          23,
          24,
          25,
          26,
          27,
          28,
          29,
          30,
          31,
          32,
          33,
          34,
          35,
          36,
          37,
          38,
          39,
          40,
          41,
          42,
          43,
          44,
          45,
          46,
          47,
          48,
          49,
          50,
          51,
          52,
          53,
          54,
          55,
          56,
          57,
          58,
          59,
          60,
          61,
          62,
          63,
          64,
          65,
          66,
          67,
          68,
          69,
          70,
          71,
          72,
          73,
          74,
          75,
          76,
          77,
          78,
          79,
          80,
          81,
          82,
          83,
          84,
          85,
          86,
          87,
          88,
          89,
          90,
          91,
          92,
          93,
          94,
          95,
          96,
          97,
          98,
          99,
          100,
          101,
          102,
          103,
          104,
          105,
          106,
          107,
          108,
          109,
          110,
          111,
          112,
          113,
          114,
          115,
          116,
          117,
          118,
          119,
          120,
          121,
          122,
          123,
          124,
          125,
          126,
          127,
          128,
          129,
          130,
          131,
          132,
          133,
          134,
          135,
          136,
          137,
          138,
          139,
          140
         ],
         "xaxis": "x",
         "y": [
          1,
          0.9791848522288329,
          0.9824750393782773,
          0.9730464450163451,
          0.9695204256077413,
          0.9671181176093826,
          0.9731384558474677,
          0.9795501232166512,
          0.9804814735083622,
          0.9798850753788115,
          0.9823110941255511,
          0.9878136485812564,
          0.9838275700845079,
          0.9865967396145814,
          0.9948982056677728,
          1.0178544526115443,
          1.016931975277084,
          1.016519322972101,
          1.0279187654125261,
          1.024004145267578,
          1.026098166847396,
          1.0164175458904068,
          1.034529919085177,
          1.0294888563986198,
          1.0312957111667385,
          1.0303464343719122,
          1.0329441844530534,
          1.0306219297773482,
          1.0340364338544474,
          1.0550110783217193,
          1.055475648436956,
          1.0540220211613058,
          1.0524036849469234,
          1.0509963372638438,
          1.0529517890380602,
          1.1130479431278313,
          1.0889111028967577,
          1.085021135821499,
          1.0640366414888713,
          1.0776200574340349,
          1.0774579621308713,
          1.072516693806452,
          1.0748728159001881,
          1.0948007521282739,
          1.098676877635328,
          1.088949184410694,
          1.0898643058087574,
          1.079680544934572,
          1.080675583948181,
          1.0590918464474208,
          1.0616911483803706,
          1.0526464383524181,
          1.0534082385790429,
          1.0462659414158502,
          1.047872435243547,
          1.0538150423796255,
          1.0513919571625223,
          1.049137729777158,
          1.0422332457444008,
          1.0454267117799214,
          1.046583395742216,
          1.0458275698408286,
          1.053602785238956,
          1.0468971596962442,
          1.042014023025246,
          1.0323490521135583,
          1.029791994470012,
          1.0321169980829832,
          1.0228786296633097,
          1.0185416133404503,
          1.0092028032389022,
          1.032956521986094,
          1.0206340706443982,
          1.0317082107676283,
          1.0293888501091768,
          1.0307153231041972,
          1.0288679815748494,
          1.029510852508672,
          1.0377668719338624,
          1.0484734234584465,
          1.044992413398786,
          1.0471250889955235,
          1.0500459628008179,
          1.0415823354658353,
          1.0245299425606071,
          1.0053511833591666,
          1.003086062790214,
          0.9960186585118489,
          0.9878326968488399,
          0.9931162315335276,
          1.0037040555444843,
          0.9964441636337935,
          0.9949880941688192,
          0.9937174221867626,
          0.9971734781847391,
          0.9959417209454531,
          1.0001111742492421,
          0.9994509867982061,
          0.9972573604551987,
          0.9933889039096064,
          0.9981311403022115,
          0.9920780399846877,
          0.9904737252270189,
          0.9928895852134,
          0.9972196907105731,
          0.9913769756079023,
          0.9952664651698109,
          0.9905267669859243,
          0.9889802169856247,
          0.9952369527024957,
          0.9871682984542984,
          0.9879882337632981,
          0.9988400183764301,
          1.0147252152710535,
          1.023243389667778,
          1.0272219071742503,
          1.0244899674209123,
          1.0276218646384712,
          1.0288027196522216,
          1.00957799837988,
          1.0184317825039424,
          1.0178065302586454,
          1.0195364695628686,
          1.013162472640446,
          1.014373660517023,
          1.021801598560995,
          1.0447365921737382,
          1.0299880413736304,
          1.018391555616177,
          1.0116038899823574,
          1.0156730079143683,
          1.016916033335204,
          1.0212729989853835,
          1.0273509599699584,
          1.0049181582279105,
          1.0112642656445876,
          1.018748627488909,
          1.020383011976406,
          1.00544591153367,
          1.0135209290273737
         ],
         "yaxis": "y"
        }
       ],
       "layout": {
        "legend": {
         "title": {
          "text": "Ticker"
         },
         "tracegroupgap": 0
        },
        "plot_bgcolor": "#f5f6f7",
        "shapes": [
         {
          "line": {
           "color": "#959696",
           "dash": "dot",
           "width": 2
          },
          "type": "line",
          "x0": "133",
          "x1": "133",
          "xref": "x",
          "y0": 0,
          "y1": 1,
          "yref": "paper"
         }
        ],
        "template": {
         "data": {
          "bar": [
           {
            "error_x": {
             "color": "#2a3f5f"
            },
            "error_y": {
             "color": "#2a3f5f"
            },
            "marker": {
             "line": {
              "color": "#E5ECF6",
              "width": 0.5
             },
             "pattern": {
              "fillmode": "overlay",
              "size": 10,
              "solidity": 0.2
             }
            },
            "type": "bar"
           }
          ],
          "barpolar": [
           {
            "marker": {
             "line": {
              "color": "#E5ECF6",
              "width": 0.5
             },
             "pattern": {
              "fillmode": "overlay",
              "size": 10,
              "solidity": 0.2
             }
            },
            "type": "barpolar"
           }
          ],
          "carpet": [
           {
            "aaxis": {
             "endlinecolor": "#2a3f5f",
             "gridcolor": "white",
             "linecolor": "white",
             "minorgridcolor": "white",
             "startlinecolor": "#2a3f5f"
            },
            "baxis": {
             "endlinecolor": "#2a3f5f",
             "gridcolor": "white",
             "linecolor": "white",
             "minorgridcolor": "white",
             "startlinecolor": "#2a3f5f"
            },
            "type": "carpet"
           }
          ],
          "choropleth": [
           {
            "colorbar": {
             "outlinewidth": 0,
             "ticks": ""
            },
            "type": "choropleth"
           }
          ],
          "contour": [
           {
            "colorbar": {
             "outlinewidth": 0,
             "ticks": ""
            },
            "colorscale": [
             [
              0,
              "#0d0887"
             ],
             [
              0.1111111111111111,
              "#46039f"
             ],
             [
              0.2222222222222222,
              "#7201a8"
             ],
             [
              0.3333333333333333,
              "#9c179e"
             ],
             [
              0.4444444444444444,
              "#bd3786"
             ],
             [
              0.5555555555555556,
              "#d8576b"
             ],
             [
              0.6666666666666666,
              "#ed7953"
             ],
             [
              0.7777777777777778,
              "#fb9f3a"
             ],
             [
              0.8888888888888888,
              "#fdca26"
             ],
             [
              1,
              "#f0f921"
             ]
            ],
            "type": "contour"
           }
          ],
          "contourcarpet": [
           {
            "colorbar": {
             "outlinewidth": 0,
             "ticks": ""
            },
            "type": "contourcarpet"
           }
          ],
          "heatmap": [
           {
            "colorbar": {
             "outlinewidth": 0,
             "ticks": ""
            },
            "colorscale": [
             [
              0,
              "#0d0887"
             ],
             [
              0.1111111111111111,
              "#46039f"
             ],
             [
              0.2222222222222222,
              "#7201a8"
             ],
             [
              0.3333333333333333,
              "#9c179e"
             ],
             [
              0.4444444444444444,
              "#bd3786"
             ],
             [
              0.5555555555555556,
              "#d8576b"
             ],
             [
              0.6666666666666666,
              "#ed7953"
             ],
             [
              0.7777777777777778,
              "#fb9f3a"
             ],
             [
              0.8888888888888888,
              "#fdca26"
             ],
             [
              1,
              "#f0f921"
             ]
            ],
            "type": "heatmap"
           }
          ],
          "heatmapgl": [
           {
            "colorbar": {
             "outlinewidth": 0,
             "ticks": ""
            },
            "colorscale": [
             [
              0,
              "#0d0887"
             ],
             [
              0.1111111111111111,
              "#46039f"
             ],
             [
              0.2222222222222222,
              "#7201a8"
             ],
             [
              0.3333333333333333,
              "#9c179e"
             ],
             [
              0.4444444444444444,
              "#bd3786"
             ],
             [
              0.5555555555555556,
              "#d8576b"
             ],
             [
              0.6666666666666666,
              "#ed7953"
             ],
             [
              0.7777777777777778,
              "#fb9f3a"
             ],
             [
              0.8888888888888888,
              "#fdca26"
             ],
             [
              1,
              "#f0f921"
             ]
            ],
            "type": "heatmapgl"
           }
          ],
          "histogram": [
           {
            "marker": {
             "pattern": {
              "fillmode": "overlay",
              "size": 10,
              "solidity": 0.2
             }
            },
            "type": "histogram"
           }
          ],
          "histogram2d": [
           {
            "colorbar": {
             "outlinewidth": 0,
             "ticks": ""
            },
            "colorscale": [
             [
              0,
              "#0d0887"
             ],
             [
              0.1111111111111111,
              "#46039f"
             ],
             [
              0.2222222222222222,
              "#7201a8"
             ],
             [
              0.3333333333333333,
              "#9c179e"
             ],
             [
              0.4444444444444444,
              "#bd3786"
             ],
             [
              0.5555555555555556,
              "#d8576b"
             ],
             [
              0.6666666666666666,
              "#ed7953"
             ],
             [
              0.7777777777777778,
              "#fb9f3a"
             ],
             [
              0.8888888888888888,
              "#fdca26"
             ],
             [
              1,
              "#f0f921"
             ]
            ],
            "type": "histogram2d"
           }
          ],
          "histogram2dcontour": [
           {
            "colorbar": {
             "outlinewidth": 0,
             "ticks": ""
            },
            "colorscale": [
             [
              0,
              "#0d0887"
             ],
             [
              0.1111111111111111,
              "#46039f"
             ],
             [
              0.2222222222222222,
              "#7201a8"
             ],
             [
              0.3333333333333333,
              "#9c179e"
             ],
             [
              0.4444444444444444,
              "#bd3786"
             ],
             [
              0.5555555555555556,
              "#d8576b"
             ],
             [
              0.6666666666666666,
              "#ed7953"
             ],
             [
              0.7777777777777778,
              "#fb9f3a"
             ],
             [
              0.8888888888888888,
              "#fdca26"
             ],
             [
              1,
              "#f0f921"
             ]
            ],
            "type": "histogram2dcontour"
           }
          ],
          "mesh3d": [
           {
            "colorbar": {
             "outlinewidth": 0,
             "ticks": ""
            },
            "type": "mesh3d"
           }
          ],
          "parcoords": [
           {
            "line": {
             "colorbar": {
              "outlinewidth": 0,
              "ticks": ""
             }
            },
            "type": "parcoords"
           }
          ],
          "pie": [
           {
            "automargin": true,
            "type": "pie"
           }
          ],
          "scatter": [
           {
            "fillpattern": {
             "fillmode": "overlay",
             "size": 10,
             "solidity": 0.2
            },
            "type": "scatter"
           }
          ],
          "scatter3d": [
           {
            "line": {
             "colorbar": {
              "outlinewidth": 0,
              "ticks": ""
             }
            },
            "marker": {
             "colorbar": {
              "outlinewidth": 0,
              "ticks": ""
             }
            },
            "type": "scatter3d"
           }
          ],
          "scattercarpet": [
           {
            "marker": {
             "colorbar": {
              "outlinewidth": 0,
              "ticks": ""
             }
            },
            "type": "scattercarpet"
           }
          ],
          "scattergeo": [
           {
            "marker": {
             "colorbar": {
              "outlinewidth": 0,
              "ticks": ""
             }
            },
            "type": "scattergeo"
           }
          ],
          "scattergl": [
           {
            "marker": {
             "colorbar": {
              "outlinewidth": 0,
              "ticks": ""
             }
            },
            "type": "scattergl"
           }
          ],
          "scattermapbox": [
           {
            "marker": {
             "colorbar": {
              "outlinewidth": 0,
              "ticks": ""
             }
            },
            "type": "scattermapbox"
           }
          ],
          "scatterpolar": [
           {
            "marker": {
             "colorbar": {
              "outlinewidth": 0,
              "ticks": ""
             }
            },
            "type": "scatterpolar"
           }
          ],
          "scatterpolargl": [
           {
            "marker": {
             "colorbar": {
              "outlinewidth": 0,
              "ticks": ""
             }
            },
            "type": "scatterpolargl"
           }
          ],
          "scatterternary": [
           {
            "marker": {
             "colorbar": {
              "outlinewidth": 0,
              "ticks": ""
             }
            },
            "type": "scatterternary"
           }
          ],
          "surface": [
           {
            "colorbar": {
             "outlinewidth": 0,
             "ticks": ""
            },
            "colorscale": [
             [
              0,
              "#0d0887"
             ],
             [
              0.1111111111111111,
              "#46039f"
             ],
             [
              0.2222222222222222,
              "#7201a8"
             ],
             [
              0.3333333333333333,
              "#9c179e"
             ],
             [
              0.4444444444444444,
              "#bd3786"
             ],
             [
              0.5555555555555556,
              "#d8576b"
             ],
             [
              0.6666666666666666,
              "#ed7953"
             ],
             [
              0.7777777777777778,
              "#fb9f3a"
             ],
             [
              0.8888888888888888,
              "#fdca26"
             ],
             [
              1,
              "#f0f921"
             ]
            ],
            "type": "surface"
           }
          ],
          "table": [
           {
            "cells": {
             "fill": {
              "color": "#EBF0F8"
             },
             "line": {
              "color": "white"
             }
            },
            "header": {
             "fill": {
              "color": "#C8D4E3"
             },
             "line": {
              "color": "white"
             }
            },
            "type": "table"
           }
          ]
         },
         "layout": {
          "annotationdefaults": {
           "arrowcolor": "#2a3f5f",
           "arrowhead": 0,
           "arrowwidth": 1
          },
          "autotypenumbers": "strict",
          "coloraxis": {
           "colorbar": {
            "outlinewidth": 0,
            "ticks": ""
           }
          },
          "colorscale": {
           "diverging": [
            [
             0,
             "#8e0152"
            ],
            [
             0.1,
             "#c51b7d"
            ],
            [
             0.2,
             "#de77ae"
            ],
            [
             0.3,
             "#f1b6da"
            ],
            [
             0.4,
             "#fde0ef"
            ],
            [
             0.5,
             "#f7f7f7"
            ],
            [
             0.6,
             "#e6f5d0"
            ],
            [
             0.7,
             "#b8e186"
            ],
            [
             0.8,
             "#7fbc41"
            ],
            [
             0.9,
             "#4d9221"
            ],
            [
             1,
             "#276419"
            ]
           ],
           "sequential": [
            [
             0,
             "#0d0887"
            ],
            [
             0.1111111111111111,
             "#46039f"
            ],
            [
             0.2222222222222222,
             "#7201a8"
            ],
            [
             0.3333333333333333,
             "#9c179e"
            ],
            [
             0.4444444444444444,
             "#bd3786"
            ],
            [
             0.5555555555555556,
             "#d8576b"
            ],
            [
             0.6666666666666666,
             "#ed7953"
            ],
            [
             0.7777777777777778,
             "#fb9f3a"
            ],
            [
             0.8888888888888888,
             "#fdca26"
            ],
            [
             1,
             "#f0f921"
            ]
           ],
           "sequentialminus": [
            [
             0,
             "#0d0887"
            ],
            [
             0.1111111111111111,
             "#46039f"
            ],
            [
             0.2222222222222222,
             "#7201a8"
            ],
            [
             0.3333333333333333,
             "#9c179e"
            ],
            [
             0.4444444444444444,
             "#bd3786"
            ],
            [
             0.5555555555555556,
             "#d8576b"
            ],
            [
             0.6666666666666666,
             "#ed7953"
            ],
            [
             0.7777777777777778,
             "#fb9f3a"
            ],
            [
             0.8888888888888888,
             "#fdca26"
            ],
            [
             1,
             "#f0f921"
            ]
           ]
          },
          "colorway": [
           "#636efa",
           "#EF553B",
           "#00cc96",
           "#ab63fa",
           "#FFA15A",
           "#19d3f3",
           "#FF6692",
           "#B6E880",
           "#FF97FF",
           "#FECB52"
          ],
          "font": {
           "color": "#2a3f5f"
          },
          "geo": {
           "bgcolor": "white",
           "lakecolor": "white",
           "landcolor": "#E5ECF6",
           "showlakes": true,
           "showland": true,
           "subunitcolor": "white"
          },
          "hoverlabel": {
           "align": "left"
          },
          "hovermode": "closest",
          "mapbox": {
           "style": "light"
          },
          "paper_bgcolor": "white",
          "plot_bgcolor": "#E5ECF6",
          "polar": {
           "angularaxis": {
            "gridcolor": "white",
            "linecolor": "white",
            "ticks": ""
           },
           "bgcolor": "#E5ECF6",
           "radialaxis": {
            "gridcolor": "white",
            "linecolor": "white",
            "ticks": ""
           }
          },
          "scene": {
           "xaxis": {
            "backgroundcolor": "#E5ECF6",
            "gridcolor": "white",
            "gridwidth": 2,
            "linecolor": "white",
            "showbackground": true,
            "ticks": "",
            "zerolinecolor": "white"
           },
           "yaxis": {
            "backgroundcolor": "#E5ECF6",
            "gridcolor": "white",
            "gridwidth": 2,
            "linecolor": "white",
            "showbackground": true,
            "ticks": "",
            "zerolinecolor": "white"
           },
           "zaxis": {
            "backgroundcolor": "#E5ECF6",
            "gridcolor": "white",
            "gridwidth": 2,
            "linecolor": "white",
            "showbackground": true,
            "ticks": "",
            "zerolinecolor": "white"
           }
          },
          "shapedefaults": {
           "line": {
            "color": "#2a3f5f"
           }
          },
          "ternary": {
           "aaxis": {
            "gridcolor": "white",
            "linecolor": "white",
            "ticks": ""
           },
           "baxis": {
            "gridcolor": "white",
            "linecolor": "white",
            "ticks": ""
           },
           "bgcolor": "#E5ECF6",
           "caxis": {
            "gridcolor": "white",
            "linecolor": "white",
            "ticks": ""
           }
          },
          "title": {
           "x": 0.05
          },
          "xaxis": {
           "automargin": true,
           "gridcolor": "white",
           "linecolor": "white",
           "ticks": "",
           "title": {
            "standoff": 15
           },
           "zerolinecolor": "white",
           "zerolinewidth": 2
          },
          "yaxis": {
           "automargin": true,
           "gridcolor": "white",
           "linecolor": "white",
           "ticks": "",
           "title": {
            "standoff": 15
           },
           "zerolinecolor": "white",
           "zerolinewidth": 2
          }
         }
        },
        "title": {
         "text": "CRM vs Basket of Similar Stocks"
        },
        "xaxis": {
         "anchor": "y",
         "domain": [
          0,
          1
         ],
         "title": {
          "text": "Timeseries_Index"
         }
        },
        "yaxis": {
         "anchor": "x",
         "domain": [
          0,
          1
         ],
         "title": {
          "text": "Relative_Price"
         }
        }
       }
      }
     },
     "metadata": {},
     "output_type": "display_data"
    }
   ],
   "source": [
    "#CRM + basket mean\n",
    "basket_stocks = df_stocks2[df_stocks2['Ticker']!='CRM']\n",
    "basket_stocks = basket_stocks.groupby(['Timeseries_Index']).agg(\n",
    "    Relative_Price=('Relative_Price',np.mean)\n",
    ")\n",
    "basket_stocks.reset_index(drop=False,inplace=True)\n",
    "basket_stocks['Ticker'] = 'BASKET'\n",
    "crm_df = df_stocks2[df_stocks2['Ticker']=='CRM']\n",
    "crm_df = crm_df[['Timeseries_Index','Relative_Price','Ticker']]\n",
    "fig_df = pd.concat([crm_df,basket_stocks])\n",
    "fig = px.line(fig_df\n",
    "              ,x='Timeseries_Index'\n",
    "              ,y='Relative_Price'\n",
    "              ,markers=True\n",
    "              ,color='Ticker'\n",
    "              ,title='CRM vs Basket of Similar Stocks')\n",
    "\n",
    "fig.update_layout(shapes=\n",
    "                  [dict(type= 'line',\n",
    "                        yref= 'paper', y0= 0, y1= 1,\n",
    "                        xref= 'x', x0='133', x1='133',\n",
    "                        line=dict(color=\"#959696\",\n",
    "                                  width=2,\n",
    "                                  dash=\"dot\"))]\n",
    "                 ,plot_bgcolor='#f5f6f7')\n",
    "fig.show()"
   ]
  }
 ],
 "metadata": {
  "kernelspec": {
   "display_name": "causal",
   "language": "python",
   "name": "python3"
  },
  "language_info": {
   "codemirror_mode": {
    "name": "ipython",
    "version": 3
   },
   "file_extension": ".py",
   "mimetype": "text/x-python",
   "name": "python",
   "nbconvert_exporter": "python",
   "pygments_lexer": "ipython3",
   "version": "3.10.13"
  }
 },
 "nbformat": 4,
 "nbformat_minor": 2
}
